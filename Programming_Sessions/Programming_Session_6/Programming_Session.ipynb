{
  "nbformat": 4,
  "nbformat_minor": 0,
  "metadata": {
    "colab": {
      "provenance": [],
      "include_colab_link": true
    },
    "kernelspec": {
      "name": "python3",
      "display_name": "Python 3"
    }
  },
  "cells": [
    {
      "cell_type": "markdown",
      "metadata": {
        "id": "view-in-github",
        "colab_type": "text"
      },
      "source": [
        "<a href=\"https://colab.research.google.com/github/csyusharon/machine-learning/blob/main/Programming_Sessions/Programming_Session_6/Programming_Session.ipynb\" target=\"_parent\"><img src=\"https://colab.research.google.com/assets/colab-badge.svg\" alt=\"Open In Colab\"/></a>"
      ]
    },
    {
      "cell_type": "markdown",
      "metadata": {
        "id": "A84sSMXE3hbZ"
      },
      "source": [
        "\n",
        "# **<center>Machine Learning and Finance </center>**\n",
        "\n",
        "\n",
        "## <center> Programming Session 6 - LSTM Based Classification Model </center>\n",
        "\n"
      ]
    },
    {
      "cell_type": "markdown",
      "metadata": {
        "id": "48GJETGg1Aow"
      },
      "source": [
        "# LSTM Based Classification Model\n",
        "\n",
        "## Introduction\n",
        "In this programming session, we are focusing on building an LSTM (Long Short-Term Memory) model aimed at the classification of news articles.\n",
        "\n",
        "## Challenge\n",
        "The core challenge is to develop a model capable of categorizing news texts into five predefined categories: tech, business, sport, entertainment, and politics.\n",
        "\n",
        "## DataSet Overview\n",
        "We are utilizing the BBC news articles (Source: [here](http://mlg.ucd.ie/files/publications/greene06icml.pdf)) dataset for this task. It comprises texts each labeled under one of the five categories mentioned.\n",
        "\n",
        "## Objective\n",
        "Our goal is to create and refine an LSTM-based machine learning model that efficiently classifies news articles into their respective categories based on their textual content."
      ]
    },
    {
      "cell_type": "code",
      "metadata": {
        "id": "kCcWOvm03Zxu"
      },
      "source": [
        "# Import basic libraries\n",
        "import matplotlib.pyplot as plt # for plotting\n",
        "import numpy as np # for manipulating arrays\n",
        "import tensorflow as tf # for creating Neural Networks, we will use it to load data\n",
        "import os\n",
        "import pandas as pd\n",
        "plt.style.use('dark_background') # to adapt the colors to a dark background\n",
        "from IPython.display import Image # for showing graphs from the lectures"
      ],
      "execution_count": 1,
      "outputs": []
    },
    {
      "cell_type": "markdown",
      "metadata": {
        "id": "ZEg4IWrPY6QE"
      },
      "source": [
        "# 1. Preprocessing the Data"
      ]
    },
    {
      "cell_type": "markdown",
      "metadata": {
        "id": "-5QXO_b895mj"
      },
      "source": [
        "The goal of this part is to prepare our dataset into a format suitable for training by transforming it into a `(N, T)` tensor where:\n",
        "\n",
        "- `N` represents the number of samples in our dataset.\n",
        "- `T` denotes the uniform length of each sequence within the dataset.\n",
        "\n",
        "### Preprocessing Steps\n",
        "\n",
        "1. **Determine Sequence Length (`T`):** Select a fixed sequence length `T`, which serves as another hyperparameter in our model preparation.\n",
        "\n",
        "2. **Sequence Adjustment:**\n",
        "    - **Padding:** For sequences shorter than `T`, pad them with zeros to match the desired length.\n",
        "    - **Truncation:** For sequences exceeding the length `T`, truncate them to maintain uniformity.\n"
      ]
    },
    {
      "cell_type": "markdown",
      "source": [
        "<center><img width=“700\" src = \"https://drive.google.com/uc?export=view&id=1GLwOZWrMiprZpN8jijTkLO_GVpgmi9MM\"></center>"
      ],
      "metadata": {
        "id": "gpxrWwnA0Pam"
      }
    },
    {
      "cell_type": "markdown",
      "metadata": {
        "id": "2rsm8LyYB7UF"
      },
      "source": [
        "You can find the data in the following [link](https://www.kaggle.com/c/jigsaw-toxic-comment-classification-challenge/data). You can then store the file `train.csv` in a directory called `data`.\n",
        "\n",
        "The dataset can be found in the folder `data`. The csv file is named `bbc-text.csv`\n",
        "\n",
        "You will find the following columns:\n",
        "\n",
        "* `text` contains the news.\n",
        "\n",
        "* `category` is an element of the following categories:\n",
        "  * tech\n",
        "  * business\n",
        "  * sport\n",
        "  * entertainment\n",
        "  * politics\n",
        "\n",
        "\n"
      ]
    },
    {
      "cell_type": "markdown",
      "source": [
        "---\n",
        "<font color=green>Q1:</font>\n",
        "<br><font color='green'>\n",
        "Load the dataframe and call the dataframe `df` and store the elements in the column `text` in a list called `texts`\n",
        "</font>\n",
        "\n",
        "---"
      ],
      "metadata": {
        "id": "d3uVYHqpwNLt"
      }
    },
    {
      "cell_type": "code",
      "source": [
        "df = pd.read_csv(\"https://raw.githubusercontent.com/Jandsy/ml_finance_imperial/refs/heads/main/Programming_Sessions/Programming_Session_6/bbc-text.csv\")\n"
      ],
      "metadata": {
        "id": "C0qFT2BF-ZAt"
      },
      "execution_count": 52,
      "outputs": []
    },
    {
      "cell_type": "code",
      "source": [
        "df.head()"
      ],
      "metadata": {
        "colab": {
          "base_uri": "https://localhost:8080/",
          "height": 206
        },
        "id": "mzgrF-ilSv2j",
        "outputId": "42cc2e60-0086-4f8c-91b8-6f83acfbc060"
      },
      "execution_count": 53,
      "outputs": [
        {
          "output_type": "execute_result",
          "data": {
            "text/plain": [
              "        category                                               text\n",
              "0           tech  tv future in the hands of viewers with home th...\n",
              "1       business  worldcom boss  left books alone  former worldc...\n",
              "2          sport  tigers wary of farrell  gamble  leicester say ...\n",
              "3          sport  yeading face newcastle in fa cup premiership s...\n",
              "4  entertainment  ocean s twelve raids box office ocean s twelve..."
            ],
            "text/html": [
              "\n",
              "  <div id=\"df-c9e29495-b819-4ce2-83e5-73a3ea911103\" class=\"colab-df-container\">\n",
              "    <div>\n",
              "<style scoped>\n",
              "    .dataframe tbody tr th:only-of-type {\n",
              "        vertical-align: middle;\n",
              "    }\n",
              "\n",
              "    .dataframe tbody tr th {\n",
              "        vertical-align: top;\n",
              "    }\n",
              "\n",
              "    .dataframe thead th {\n",
              "        text-align: right;\n",
              "    }\n",
              "</style>\n",
              "<table border=\"1\" class=\"dataframe\">\n",
              "  <thead>\n",
              "    <tr style=\"text-align: right;\">\n",
              "      <th></th>\n",
              "      <th>category</th>\n",
              "      <th>text</th>\n",
              "    </tr>\n",
              "  </thead>\n",
              "  <tbody>\n",
              "    <tr>\n",
              "      <th>0</th>\n",
              "      <td>tech</td>\n",
              "      <td>tv future in the hands of viewers with home th...</td>\n",
              "    </tr>\n",
              "    <tr>\n",
              "      <th>1</th>\n",
              "      <td>business</td>\n",
              "      <td>worldcom boss  left books alone  former worldc...</td>\n",
              "    </tr>\n",
              "    <tr>\n",
              "      <th>2</th>\n",
              "      <td>sport</td>\n",
              "      <td>tigers wary of farrell  gamble  leicester say ...</td>\n",
              "    </tr>\n",
              "    <tr>\n",
              "      <th>3</th>\n",
              "      <td>sport</td>\n",
              "      <td>yeading face newcastle in fa cup premiership s...</td>\n",
              "    </tr>\n",
              "    <tr>\n",
              "      <th>4</th>\n",
              "      <td>entertainment</td>\n",
              "      <td>ocean s twelve raids box office ocean s twelve...</td>\n",
              "    </tr>\n",
              "  </tbody>\n",
              "</table>\n",
              "</div>\n",
              "    <div class=\"colab-df-buttons\">\n",
              "\n",
              "  <div class=\"colab-df-container\">\n",
              "    <button class=\"colab-df-convert\" onclick=\"convertToInteractive('df-c9e29495-b819-4ce2-83e5-73a3ea911103')\"\n",
              "            title=\"Convert this dataframe to an interactive table.\"\n",
              "            style=\"display:none;\">\n",
              "\n",
              "  <svg xmlns=\"http://www.w3.org/2000/svg\" height=\"24px\" viewBox=\"0 -960 960 960\">\n",
              "    <path d=\"M120-120v-720h720v720H120Zm60-500h600v-160H180v160Zm220 220h160v-160H400v160Zm0 220h160v-160H400v160ZM180-400h160v-160H180v160Zm440 0h160v-160H620v160ZM180-180h160v-160H180v160Zm440 0h160v-160H620v160Z\"/>\n",
              "  </svg>\n",
              "    </button>\n",
              "\n",
              "  <style>\n",
              "    .colab-df-container {\n",
              "      display:flex;\n",
              "      gap: 12px;\n",
              "    }\n",
              "\n",
              "    .colab-df-convert {\n",
              "      background-color: #E8F0FE;\n",
              "      border: none;\n",
              "      border-radius: 50%;\n",
              "      cursor: pointer;\n",
              "      display: none;\n",
              "      fill: #1967D2;\n",
              "      height: 32px;\n",
              "      padding: 0 0 0 0;\n",
              "      width: 32px;\n",
              "    }\n",
              "\n",
              "    .colab-df-convert:hover {\n",
              "      background-color: #E2EBFA;\n",
              "      box-shadow: 0px 1px 2px rgba(60, 64, 67, 0.3), 0px 1px 3px 1px rgba(60, 64, 67, 0.15);\n",
              "      fill: #174EA6;\n",
              "    }\n",
              "\n",
              "    .colab-df-buttons div {\n",
              "      margin-bottom: 4px;\n",
              "    }\n",
              "\n",
              "    [theme=dark] .colab-df-convert {\n",
              "      background-color: #3B4455;\n",
              "      fill: #D2E3FC;\n",
              "    }\n",
              "\n",
              "    [theme=dark] .colab-df-convert:hover {\n",
              "      background-color: #434B5C;\n",
              "      box-shadow: 0px 1px 3px 1px rgba(0, 0, 0, 0.15);\n",
              "      filter: drop-shadow(0px 1px 2px rgba(0, 0, 0, 0.3));\n",
              "      fill: #FFFFFF;\n",
              "    }\n",
              "  </style>\n",
              "\n",
              "    <script>\n",
              "      const buttonEl =\n",
              "        document.querySelector('#df-c9e29495-b819-4ce2-83e5-73a3ea911103 button.colab-df-convert');\n",
              "      buttonEl.style.display =\n",
              "        google.colab.kernel.accessAllowed ? 'block' : 'none';\n",
              "\n",
              "      async function convertToInteractive(key) {\n",
              "        const element = document.querySelector('#df-c9e29495-b819-4ce2-83e5-73a3ea911103');\n",
              "        const dataTable =\n",
              "          await google.colab.kernel.invokeFunction('convertToInteractive',\n",
              "                                                    [key], {});\n",
              "        if (!dataTable) return;\n",
              "\n",
              "        const docLinkHtml = 'Like what you see? Visit the ' +\n",
              "          '<a target=\"_blank\" href=https://colab.research.google.com/notebooks/data_table.ipynb>data table notebook</a>'\n",
              "          + ' to learn more about interactive tables.';\n",
              "        element.innerHTML = '';\n",
              "        dataTable['output_type'] = 'display_data';\n",
              "        await google.colab.output.renderOutput(dataTable, element);\n",
              "        const docLink = document.createElement('div');\n",
              "        docLink.innerHTML = docLinkHtml;\n",
              "        element.appendChild(docLink);\n",
              "      }\n",
              "    </script>\n",
              "  </div>\n",
              "\n",
              "\n",
              "    <div id=\"df-41154540-9a88-4e6c-811a-cc2fe4040324\">\n",
              "      <button class=\"colab-df-quickchart\" onclick=\"quickchart('df-41154540-9a88-4e6c-811a-cc2fe4040324')\"\n",
              "                title=\"Suggest charts\"\n",
              "                style=\"display:none;\">\n",
              "\n",
              "<svg xmlns=\"http://www.w3.org/2000/svg\" height=\"24px\"viewBox=\"0 0 24 24\"\n",
              "     width=\"24px\">\n",
              "    <g>\n",
              "        <path d=\"M19 3H5c-1.1 0-2 .9-2 2v14c0 1.1.9 2 2 2h14c1.1 0 2-.9 2-2V5c0-1.1-.9-2-2-2zM9 17H7v-7h2v7zm4 0h-2V7h2v10zm4 0h-2v-4h2v4z\"/>\n",
              "    </g>\n",
              "</svg>\n",
              "      </button>\n",
              "\n",
              "<style>\n",
              "  .colab-df-quickchart {\n",
              "      --bg-color: #E8F0FE;\n",
              "      --fill-color: #1967D2;\n",
              "      --hover-bg-color: #E2EBFA;\n",
              "      --hover-fill-color: #174EA6;\n",
              "      --disabled-fill-color: #AAA;\n",
              "      --disabled-bg-color: #DDD;\n",
              "  }\n",
              "\n",
              "  [theme=dark] .colab-df-quickchart {\n",
              "      --bg-color: #3B4455;\n",
              "      --fill-color: #D2E3FC;\n",
              "      --hover-bg-color: #434B5C;\n",
              "      --hover-fill-color: #FFFFFF;\n",
              "      --disabled-bg-color: #3B4455;\n",
              "      --disabled-fill-color: #666;\n",
              "  }\n",
              "\n",
              "  .colab-df-quickchart {\n",
              "    background-color: var(--bg-color);\n",
              "    border: none;\n",
              "    border-radius: 50%;\n",
              "    cursor: pointer;\n",
              "    display: none;\n",
              "    fill: var(--fill-color);\n",
              "    height: 32px;\n",
              "    padding: 0;\n",
              "    width: 32px;\n",
              "  }\n",
              "\n",
              "  .colab-df-quickchart:hover {\n",
              "    background-color: var(--hover-bg-color);\n",
              "    box-shadow: 0 1px 2px rgba(60, 64, 67, 0.3), 0 1px 3px 1px rgba(60, 64, 67, 0.15);\n",
              "    fill: var(--button-hover-fill-color);\n",
              "  }\n",
              "\n",
              "  .colab-df-quickchart-complete:disabled,\n",
              "  .colab-df-quickchart-complete:disabled:hover {\n",
              "    background-color: var(--disabled-bg-color);\n",
              "    fill: var(--disabled-fill-color);\n",
              "    box-shadow: none;\n",
              "  }\n",
              "\n",
              "  .colab-df-spinner {\n",
              "    border: 2px solid var(--fill-color);\n",
              "    border-color: transparent;\n",
              "    border-bottom-color: var(--fill-color);\n",
              "    animation:\n",
              "      spin 1s steps(1) infinite;\n",
              "  }\n",
              "\n",
              "  @keyframes spin {\n",
              "    0% {\n",
              "      border-color: transparent;\n",
              "      border-bottom-color: var(--fill-color);\n",
              "      border-left-color: var(--fill-color);\n",
              "    }\n",
              "    20% {\n",
              "      border-color: transparent;\n",
              "      border-left-color: var(--fill-color);\n",
              "      border-top-color: var(--fill-color);\n",
              "    }\n",
              "    30% {\n",
              "      border-color: transparent;\n",
              "      border-left-color: var(--fill-color);\n",
              "      border-top-color: var(--fill-color);\n",
              "      border-right-color: var(--fill-color);\n",
              "    }\n",
              "    40% {\n",
              "      border-color: transparent;\n",
              "      border-right-color: var(--fill-color);\n",
              "      border-top-color: var(--fill-color);\n",
              "    }\n",
              "    60% {\n",
              "      border-color: transparent;\n",
              "      border-right-color: var(--fill-color);\n",
              "    }\n",
              "    80% {\n",
              "      border-color: transparent;\n",
              "      border-right-color: var(--fill-color);\n",
              "      border-bottom-color: var(--fill-color);\n",
              "    }\n",
              "    90% {\n",
              "      border-color: transparent;\n",
              "      border-bottom-color: var(--fill-color);\n",
              "    }\n",
              "  }\n",
              "</style>\n",
              "\n",
              "      <script>\n",
              "        async function quickchart(key) {\n",
              "          const quickchartButtonEl =\n",
              "            document.querySelector('#' + key + ' button');\n",
              "          quickchartButtonEl.disabled = true;  // To prevent multiple clicks.\n",
              "          quickchartButtonEl.classList.add('colab-df-spinner');\n",
              "          try {\n",
              "            const charts = await google.colab.kernel.invokeFunction(\n",
              "                'suggestCharts', [key], {});\n",
              "          } catch (error) {\n",
              "            console.error('Error during call to suggestCharts:', error);\n",
              "          }\n",
              "          quickchartButtonEl.classList.remove('colab-df-spinner');\n",
              "          quickchartButtonEl.classList.add('colab-df-quickchart-complete');\n",
              "        }\n",
              "        (() => {\n",
              "          let quickchartButtonEl =\n",
              "            document.querySelector('#df-41154540-9a88-4e6c-811a-cc2fe4040324 button');\n",
              "          quickchartButtonEl.style.display =\n",
              "            google.colab.kernel.accessAllowed ? 'block' : 'none';\n",
              "        })();\n",
              "      </script>\n",
              "    </div>\n",
              "\n",
              "    </div>\n",
              "  </div>\n"
            ],
            "application/vnd.google.colaboratory.intrinsic+json": {
              "type": "dataframe",
              "variable_name": "df",
              "summary": "{\n  \"name\": \"df\",\n  \"rows\": 2225,\n  \"fields\": [\n    {\n      \"column\": \"category\",\n      \"properties\": {\n        \"dtype\": \"category\",\n        \"num_unique_values\": 5,\n        \"samples\": [\n          \"business\",\n          \"politics\",\n          \"sport\"\n        ],\n        \"semantic_type\": \"\",\n        \"description\": \"\"\n      }\n    },\n    {\n      \"column\": \"text\",\n      \"properties\": {\n        \"dtype\": \"string\",\n        \"num_unique_values\": 2126,\n        \"samples\": [\n          \"plan to give elderly care control elderly and disabled people would choose how their own budget for personal care was spent and organised under government plans.  ministers say elderly and disabled people themselves  not social workers  should be able to decide on their care and stay in their own homes. they also plan a supremo for adult services in each english area to get different agencies working together. but the government shunned opponents  calls for free long-term care.  there are 1.7m people needing care in england and ministers suggest the number could quadruple by 2050. monday s consultation paper on social care for adults in england is aimed at ending a system which generates dependency. health minister stephen ladyman said:  this document is the antithesis of the nanny state.   it s about taking power away from the state and giving it to individuals and saying that we will help you make these decisions but we are not going to make them for you any more.  the government has already allowed local councils to give people money so they can pay for their services directly but take-up of the scheme has been  disappointing .  ministers say the new plans would make direct payments simpler and try to counter reluctance in some local councils to use the payments. they also want to set up a new  half-way house  where social workers tell people how much money is available for their care and help them choose how to spend that  individual budget . the scheme will be funded on existing budgets set until 2008. but mr ladyman said the plans could deliver savings in some areas  such as freeing up nhs beds and preventing illnesses. he ruled out free personal care in england - which is on offer in scotland and wales  saying it was  unsustainable .  david rogers  from the local government association  said agencies were working together on the kind of innovation proposed by the government. and tony hunter  president of the association of directors of social services  said the plans could improve dignity and well-being for thousands of people. but age concern argued social care was chronically under-funded and older people were being offered choice in principle  but not in practice. its director general  gordon lishman  said:  direct payments will not work if there are no services for people to choose from locally.   the tories say people who pay for three years  long-term care directly or through insurance should be guaranteed free care for the rest of their lives. tory spokesman simon burns said more than 80 000 long term care places had been lost since 1997.  after eight years of persistent change  dogmatic enforcement of regulation  and overbearing government initiatives - we need action  not a vision   said mr burns. the lib dems say they would fund free personal care by a new 50% tax rate on incomes over \\u00a3100 000. health spokesman paul burstow said:  promoting independence sounds good and helping people to live in their own homes is a goal we share.  but the risk is that independence can turn into isolation if the right support and care is not available.\",\n          \"beer giant swallows russian firm brewing giant inbev has agreed to buy alfa-eco s stake in sun interbrew  russia s second-largest brewer  for up to 259.7m euros ($353.3m; \\u00a3183.75m).  alfa-eco  the venture capital arm of russian conglomerate alfa group  has a one-fifth stake in sun interbrew. the deal gives inbev  the world s biggest beermaker  near-total control over the russian brewer. inbev bought out another partner in august 2004. inbev brands include bass  stella artois  hoegaarden and staropramen. it employs 77 000 people  running operations in over 30 countries across the americas  europe and asia pacific.  the leuven-based brewery said it would own 97.3% of the voting shares and 98.8% of the non-voting shares of sun interbrew. the deal is expected to be completed in the first quarter of 2005. inbev was formed in august 2004 when belgium s interbrew bought brazilian brewer ambev. sun interbrew  which employs 8 000 staff  owns breweries in eight russian cities - klin  ivanovo  saransk  kursk  volzhsky  omsk  perm and novocheboksarsk. there are also three breweries in ukraine  in the cities of chernigov  nikolaev and kharkov.\",\n          \"athens memories soar above lows well  it s goodbye to another olympic year and as usual there were plenty of highs and lows in athens.  obviously  there s no getting away from the differing fortunes of kelly holmes and paula radcliffe. but i want to remind you of a few more events that made 2004 another year to remember - or forget - for athletics.      one of my favourite olympic moments was kelly s success in the 800m.  winning that race was the key to her success because if she won that then the 1500m would be a bit of a formality. kelly had been full of  should i  shouldn t i   thoughts about going for the double in athens. i thought why wouldn t you do the 800m  it s your best event  it was such good fun to commentate on her 1500m and it was nice to be able to be part of her athens story.      the victory for the british men s 4x100m relay team was a bit of a surprise but a great climax to the games. i think the four of them - jason gardener  darren campbell  marlon devonish and mark lewis-francis - knew deep down that it was their best chance of a medal. the lads had run poorly in the individual sprints so maybe they did lift their game when they knew something was really at stake.      hicham el guerrouj s olympic double is a much bigger achievement than kelly s on a global scale.  he was the first man since for 80 years to win both the 1500m and 5 000m titles. as soon as he had added the 5 000m crown and i had finished commentating  i jumped up  ran down the stairs  pushed everyone out the way and just gave him a big hug. he is one of the few african runners who has embraced the tradition of the mile and he loves to hear all the roger bannister stories. hicham is someone i enjoy having a bit of time with  even though my french and his english are not very good.      what happened to paula in athens this year is the obvious low on a personal level and for the expectations of the nation as well. there were a set of circumstances around athens that conspired to produce a very dramatic ending which i think has been greatly misunderstood. dropping out of the marathon was the right thing to do but starting in the 10 000m five days later was not wise. that was her heart and not her head reacting. paula had a lot of little things going wrong in her preparation and on the day.  things like niggling injuries  not being able to do all her running sessions and feeling the pressure of the race looming ahead of her. i think she came to the start line in athens physically and emotionally drained. and if even the smallest thing doesn t feel right when you are preparing to race a marathon  10 miles down the road it will hit you like a brick wall. the positive thing to take from paula s olympics it that she will have learned a lot from it and so will a lot of people - including me.      purely as a race  paula s victory in the new york marathon has to go down as one of the most thrilling. it was so nip-and-tuck between her and kenya s susan chepkemei and you don t usually get that kind of excitement in marathons. it was also a real delight for all athletics fans because  to use one of my favourite words  paula showed real  bouncebackability . and it was a bit of a rarity for me too because i genuinely did not have an inkling how the race was going to pan out.      kelly and the 4x100m boys  victories papered over the cracks in the general performance of the british team. we should be concerned that we re not producing enough people who are capable of reaching finals at senior level.  the only individual men s finalist on the track was michael east in the 1500m. i am beginning to look down and wonder where are the new breed  and that s where things begin to look even gloomier for british athletics as we did not win any medals at the world junior championships in italy. dani barnes came fourth in the 1500m and she was the highest finisher for team gb. the thing is if we don t have athletes getting into the finals at junior level then it really doesn t look good for the beijing olympics and beyond.      i tell you what i really enjoyed this year  benita johnson winning the world cross country championships back in march. in the absence of paula  we tend to think of the event as something of an african preserve. so to have an australian come up and deliver such a surprise was something special.      to be honest  i m getting bored with all the drug scandals  especially balco. i just wish the whole thing would come to a head so we can move on.  having said that  i m always pleased when drugs cheats are caught because it shows the sport is standing up to it and not turning a blind eye anymore. and one of the positive things to come out of balco is people are starting to blow the whistle. we need more people to come forward and help the authorities kick out the cheats. as regards the case against greek sprinters kostas kenteris and katerina thanou  well suspicions have been hanging over kenteris for a while. the bottom line is we cannot keep letting drugs damage the sport because if we do then it stops everyone enjoying it.\"\n        ],\n        \"semantic_type\": \"\",\n        \"description\": \"\"\n      }\n    }\n  ]\n}"
            }
          },
          "metadata": {},
          "execution_count": 53
        }
      ]
    },
    {
      "cell_type": "code",
      "source": [
        "texts = df.text.values"
      ],
      "metadata": {
        "id": "cesv8gt1S80z"
      },
      "execution_count": 54,
      "outputs": []
    },
    {
      "cell_type": "markdown",
      "source": [
        "The following function is used for cleaning the texts:"
      ],
      "metadata": {
        "id": "iC76bjFlkLWo"
      }
    },
    {
      "cell_type": "code",
      "source": [
        "import nltk\n",
        "nltk.download(\"stopwords\")\n",
        "from nltk.corpus import stopwords"
      ],
      "metadata": {
        "colab": {
          "base_uri": "https://localhost:8080/"
        },
        "id": "gmX-QVaPkQsv",
        "outputId": "6393413d-bfc8-4e3f-e0c4-294539a0edcf"
      },
      "execution_count": 55,
      "outputs": [
        {
          "output_type": "stream",
          "name": "stderr",
          "text": [
            "[nltk_data] Downloading package stopwords to /root/nltk_data...\n",
            "[nltk_data]   Package stopwords is already up-to-date!\n"
          ]
        }
      ]
    },
    {
      "cell_type": "code",
      "source": [
        "def clean(texts):\n",
        "  clean_texts = []\n",
        "  for sequence in texts:\n",
        "    # Get the tokens\n",
        "    words = sequence.split()\n",
        "    # Keep only the words\n",
        "    alphabetic_only = [word for word in words if word.isalpha()]\n",
        "    # All tokens should be written in lowercase\n",
        "    lower_case_only = [word.lower() for word in alphabetic_only]\n",
        "    # Select the stop words from nltk\n",
        "    stopwords_nltk = set(stopwords.words('english'))\n",
        "    # Delete the stop words\n",
        "    cleaned_words = [word for word in lower_case_only if word not in stopwords_nltk]\n",
        "    # Transform the list of tokens into a long string\n",
        "    clean_sequence = ' '.join(cleaned_words)\n",
        "    # Save the result in the list clean_texts\n",
        "    clean_texts.append(clean_sequence)\n",
        "  return clean_texts"
      ],
      "metadata": {
        "id": "NAFqtR2GkU0j"
      },
      "execution_count": 56,
      "outputs": []
    },
    {
      "cell_type": "markdown",
      "source": [
        "---\n",
        "<font color=green>Q2:</font>\n",
        "<br><font color='green'>\n",
        "Modify the `text` column by applying the `clean()` function on its contents. After processing, the updated texts should be stored back in the same `text` column.\n",
        "</font>\n",
        "\n",
        "---"
      ],
      "metadata": {
        "id": "2tX1sA-PwPn_"
      }
    },
    {
      "cell_type": "code",
      "source": [
        "df.text = clean(df.text.values)\n",
        "\n",
        "#same as df['text'] = clean(df['text'].values)"
      ],
      "metadata": {
        "id": "cvgvx1L2-atS"
      },
      "execution_count": 57,
      "outputs": []
    },
    {
      "cell_type": "code",
      "source": [
        "texts = df['text'].values"
      ],
      "metadata": {
        "id": "RBR6ji9tUy6S"
      },
      "execution_count": 58,
      "outputs": []
    },
    {
      "cell_type": "code",
      "source": [
        "texts[0]"
      ],
      "metadata": {
        "colab": {
          "base_uri": "https://localhost:8080/",
          "height": 122
        },
        "id": "uDKOu-s2VTGW",
        "outputId": "87f1116e-9fa6-47a2-ffba-ec7f7bbd9f9f"
      },
      "execution_count": 59,
      "outputs": [
        {
          "output_type": "execute_result",
          "data": {
            "text/plain": [
              "'tv future hands viewers home theatre systems plasma tvs digital video recorders moving living room way people watch tv radically different five years according expert panel gathered annual consumer electronics show las vegas discuss new technologies impact one favourite us leading trend programmes content delivered viewers via home networks cable satellite telecoms companies broadband service providers front rooms portable one technologies ces digital personal video recorders boxes like us tivo uk system allow people record store play pause forward wind tv programmes essentially technology allows much personalised also tv sets big business japan us slower take europe lack people forward wind adverts also forget abiding network channel schedules putting together us networks cable satellite companies worried means terms advertising revenues well brand identity viewer loyalty although us leads technology moment also concern raised europe particularly growing uptake services like happens today see nine months years time uk adam hume bbc broadcast futurologist told bbc news likes bbc issues lost advertising revenue pressing issue moment commercial uk broadcasters brand loyalty important talking content brands rather network brands said tim hanlon brand communications firm starcom reality broadband connections anybody producer challenge hard promote programme much means said stacey jolna senior vice president tv guide tv group way people find content want watch simplified tv means networks us terms channels could take leaf google book search engine future instead scheduler help people find want kind channel model might work younger ipod generation used taking control gadgets play might suit everyone panel older generations comfortable familiar schedules channel brands know perhaps want much choice put hands mr hanlon end kids diapers pushing buttons already everything possible available said mr ultimately consumer tell market new gadgets technologies showcased ces many enhancing tv sets everywhere many new models lcd crystal tvs launched dvr capability built instead external one example launched show humax lcd tv tivo dvr dvd one us biggest satellite tv companies directtv even launched branded dvr show recording capability instant replay search set pause rewind tv microsoft chief bill gates announced keynote speech partnership tivo called tivotogo means people play recorded programmes windows pcs mobile reflect increasing trend freeing multimedia people watch want'"
            ],
            "application/vnd.google.colaboratory.intrinsic+json": {
              "type": "string"
            }
          },
          "metadata": {},
          "execution_count": 59
        }
      ]
    },
    {
      "cell_type": "markdown",
      "source": [
        "---\n",
        "<font color=green>Q3:</font>\n",
        "<br><font color='green'>\n",
        "In the dataframe `df`, update the `category` column by substituting the existing category names with their corresponding indices from the provided table.\n",
        "</font>\n",
        "\n",
        "---"
      ],
      "metadata": {
        "id": "KvzCHvv4wQi4"
      }
    },
    {
      "cell_type": "markdown",
      "source": [
        "\n",
        "\n",
        "\n",
        "| **category**  | **index** |\n",
        "|---------------|-----------|\n",
        "| tech          | 0         |\n",
        "| business      | 1         |\n",
        "| sport         | 2         |\n",
        "| entertainment | 3         |\n",
        "| politics      | 4         |\n",
        "\n",
        "\n"
      ],
      "metadata": {
        "id": "brAM29LAlx3u"
      }
    },
    {
      "cell_type": "code",
      "source": [
        "df['category'] = df['category'].map({'tech':0, 'business':1, 'sport':2,\n",
        "                                     'entertainment':3, 'politics':4})"
      ],
      "metadata": {
        "id": "4aszY3Ud-cGX"
      },
      "execution_count": 62,
      "outputs": []
    },
    {
      "cell_type": "markdown",
      "source": [
        "---\n",
        "<font color=green>Q4:</font>\n",
        "<br><font color='green'>\n",
        "Define a list, called `labels` containing the targets associated with each text in the column `text`.\n",
        "</font>\n",
        "\n",
        "---"
      ],
      "metadata": {
        "id": "GqBwq8pLwRIw"
      }
    },
    {
      "cell_type": "code",
      "source": [
        "labels = df['category'].values"
      ],
      "metadata": {
        "id": "QqMrwwIy-dM-"
      },
      "execution_count": 66,
      "outputs": []
    },
    {
      "cell_type": "markdown",
      "source": [
        "---\n",
        "<font color=green>Q5:</font>\n",
        "<br><font color='green'>\n",
        "Preprocess the texts in the column `text` and transform them into sequences of integers:\n",
        "\n",
        "* Use `Tokenizer` from `tensorflow.keras.preprocessing.text` to create your tokenizer\n",
        "* Create your word_index dictionary\n",
        "* Transform your texts into sequences of integers via your word_index dictionary.\n",
        "</font>\n",
        "\n",
        "---"
      ],
      "metadata": {
        "id": "xnXoC-CIwSYL"
      }
    },
    {
      "cell_type": "code",
      "source": [
        "# Import Modules\n",
        "from tensorflow.keras.preprocessing.text import Tokenizer\n",
        "V=10000\n",
        "\n",
        "tokenizer = Tokenizer(V)\n",
        "tokenizer.fit_on_texts(texts)"
      ],
      "metadata": {
        "id": "MGurWneC1E6n"
      },
      "execution_count": 109,
      "outputs": []
    },
    {
      "cell_type": "code",
      "source": [
        "word_index = tokenizer.word_index"
      ],
      "metadata": {
        "id": "2KKyo4wqZTB3"
      },
      "execution_count": 110,
      "outputs": []
    },
    {
      "cell_type": "code",
      "source": [
        "sequences = tokenizer.texts_to_sequences(texts)"
      ],
      "metadata": {
        "id": "7z9JnZCuZsPm"
      },
      "execution_count": 111,
      "outputs": []
    },
    {
      "cell_type": "code",
      "source": [
        "texts[0][:10]"
      ],
      "metadata": {
        "colab": {
          "base_uri": "https://localhost:8080/",
          "height": 35
        },
        "id": "nnIgjEJgZ5ci",
        "outputId": "ba818f76-56b5-4a20-8339-ecde392e14b0"
      },
      "execution_count": 112,
      "outputs": [
        {
          "output_type": "execute_result",
          "data": {
            "text/plain": [
              "'tv future '"
            ],
            "application/vnd.google.colaboratory.intrinsic+json": {
              "type": "string"
            }
          },
          "metadata": {},
          "execution_count": 112
        }
      ]
    },
    {
      "cell_type": "code",
      "source": [
        "word_index['tv']"
      ],
      "metadata": {
        "colab": {
          "base_uri": "https://localhost:8080/"
        },
        "id": "_hduzEWUZ-ti",
        "outputId": "fefe7233-4ca2-46e2-f0ba-15c4ac04d816"
      },
      "execution_count": 113,
      "outputs": [
        {
          "output_type": "execute_result",
          "data": {
            "text/plain": [
              "79"
            ]
          },
          "metadata": {},
          "execution_count": 113
        }
      ]
    },
    {
      "cell_type": "code",
      "source": [
        "sequences[0]"
      ],
      "metadata": {
        "colab": {
          "base_uri": "https://localhost:8080/"
        },
        "id": "_lHuwSq4Z2e0",
        "outputId": "1c1d32f2-0a0d-4af8-b21e-21ba9b360693"
      },
      "execution_count": 114,
      "outputs": [
        {
          "output_type": "execute_result",
          "data": {
            "text/plain": [
              "[79,\n",
              " 193,\n",
              " 1165,\n",
              " 1084,\n",
              " 44,\n",
              " 1101,\n",
              " 863,\n",
              " 4563,\n",
              " 4005,\n",
              " 104,\n",
              " 147,\n",
              " 3582,\n",
              " 1197,\n",
              " 1151,\n",
              " 1545,\n",
              " 36,\n",
              " 5,\n",
              " 877,\n",
              " 79,\n",
              " 5717,\n",
              " 273,\n",
              " 80,\n",
              " 26,\n",
              " 97,\n",
              " 2776,\n",
              " 1265,\n",
              " 2158,\n",
              " 456,\n",
              " 337,\n",
              " 1118,\n",
              " 70,\n",
              " 2547,\n",
              " 3023,\n",
              " 1497,\n",
              " 6,\n",
              " 772,\n",
              " 701,\n",
              " 8,\n",
              " 847,\n",
              " 7,\n",
              " 537,\n",
              " 1409,\n",
              " 1085,\n",
              " 371,\n",
              " 1798,\n",
              " 1084,\n",
              " 641,\n",
              " 44,\n",
              " 491,\n",
              " 1297,\n",
              " 1876,\n",
              " 1410,\n",
              " 109,\n",
              " 288,\n",
              " 102,\n",
              " 2618,\n",
              " 796,\n",
              " 4798,\n",
              " 907,\n",
              " 8,\n",
              " 772,\n",
              " 2777,\n",
              " 104,\n",
              " 286,\n",
              " 147,\n",
              " 3582,\n",
              " 3466,\n",
              " 23,\n",
              " 7,\n",
              " 5082,\n",
              " 16,\n",
              " 134,\n",
              " 346,\n",
              " 5,\n",
              " 114,\n",
              " 1242,\n",
              " 67,\n",
              " 4173,\n",
              " 462,\n",
              " 5376,\n",
              " 79,\n",
              " 1085,\n",
              " 5718,\n",
              " 75,\n",
              " 1877,\n",
              " 47,\n",
              " 7848,\n",
              " 4,\n",
              " 79,\n",
              " 1917,\n",
              " 107,\n",
              " 144,\n",
              " 365,\n",
              " 7,\n",
              " 2619,\n",
              " 33,\n",
              " 139,\n",
              " 1013,\n",
              " 5,\n",
              " 462,\n",
              " 5376,\n",
              " 2929,\n",
              " 4,\n",
              " 2360,\n",
              " 392,\n",
              " 1102,\n",
              " 7849,\n",
              " 1166,\n",
              " 586,\n",
              " 7,\n",
              " 491,\n",
              " 1297,\n",
              " 1876,\n",
              " 109,\n",
              " 1696,\n",
              " 335,\n",
              " 781,\n",
              " 1836,\n",
              " 1589,\n",
              " 39,\n",
              " 1697,\n",
              " 2361,\n",
              " 4350,\n",
              " 4799,\n",
              " 182,\n",
              " 7,\n",
              " 2258,\n",
              " 75,\n",
              " 848,\n",
              " 4,\n",
              " 1003,\n",
              " 978,\n",
              " 139,\n",
              " 642,\n",
              " 518,\n",
              " 7850,\n",
              " 135,\n",
              " 23,\n",
              " 1799,\n",
              " 413,\n",
              " 63,\n",
              " 895,\n",
              " 125,\n",
              " 26,\n",
              " 17,\n",
              " 16,\n",
              " 2930,\n",
              " 32,\n",
              " 1337,\n",
              " 20,\n",
              " 32,\n",
              " 84,\n",
              " 2046,\n",
              " 32,\n",
              " 407,\n",
              " 190,\n",
              " 1836,\n",
              " 1474,\n",
              " 5083,\n",
              " 331,\n",
              " 848,\n",
              " 992,\n",
              " 16,\n",
              " 2484,\n",
              " 1697,\n",
              " 4799,\n",
              " 264,\n",
              " 1043,\n",
              " 371,\n",
              " 1918,\n",
              " 312,\n",
              " 392,\n",
              " 1918,\n",
              " 1,\n",
              " 1119,\n",
              " 1697,\n",
              " 1765,\n",
              " 52,\n",
              " 1734,\n",
              " 288,\n",
              " 1698,\n",
              " 3236,\n",
              " 1209,\n",
              " 864,\n",
              " 237,\n",
              " 2548,\n",
              " 538,\n",
              " 47,\n",
              " 335,\n",
              " 1,\n",
              " 548,\n",
              " 1610,\n",
              " 166,\n",
              " 79,\n",
              " 3583,\n",
              " 79,\n",
              " 87,\n",
              " 36,\n",
              " 5,\n",
              " 282,\n",
              " 371,\n",
              " 62,\n",
              " 877,\n",
              " 79,\n",
              " 335,\n",
              " 491,\n",
              " 7,\n",
              " 781,\n",
              " 2549,\n",
              " 9,\n",
              " 33,\n",
              " 740,\n",
              " 506,\n",
              " 328,\n",
              " 1878,\n",
              " 193,\n",
              " 499,\n",
              " 103,\n",
              " 5,\n",
              " 282,\n",
              " 62,\n",
              " 1044,\n",
              " 1102,\n",
              " 1431,\n",
              " 296,\n",
              " 57,\n",
              " 1735,\n",
              " 1298,\n",
              " 766,\n",
              " 77,\n",
              " 200,\n",
              " 297,\n",
              " 938,\n",
              " 67,\n",
              " 296,\n",
              " 2620,\n",
              " 673,\n",
              " 1265,\n",
              " 1475,\n",
              " 6631,\n",
              " 3467,\n",
              " 2848,\n",
              " 7849,\n",
              " 1102,\n",
              " 1918,\n",
              " 137,\n",
              " 1338,\n",
              " 62,\n",
              " 47,\n",
              " 573,\n",
              " 81,\n",
              " 1165,\n",
              " 2,\n",
              " 83,\n",
              " 3024,\n",
              " 2000,\n",
              " 7851,\n",
              " 82,\n",
              " 667,\n",
              " 408,\n",
              " 368,\n",
              " 1,\n",
              " 2,\n",
              " 2259,\n",
              " 337,\n",
              " 1339,\n",
              " 49,\n",
              " 6,\n",
              " 938,\n",
              " 772,\n",
              " 6146,\n",
              " 2777,\n",
              " 24,\n",
              " 9742,\n",
              " 79,\n",
              " 1917,\n",
              " 8667,\n",
              " 24,\n",
              " 6,\n",
              " 1452,\n",
              " 7151,\n",
              " 3851,\n",
              " 4005,\n",
              " 549,\n",
              " 9743,\n",
              " 3468,\n",
              " 1243,\n",
              " 499,\n",
              " 3584,\n",
              " 8,\n",
              " 849,\n",
              " 549,\n",
              " 70,\n",
              " 7151,\n",
              " 79,\n",
              " 5082,\n",
              " 9743,\n",
              " 634,\n",
              " 8,\n",
              " 7,\n",
              " 204,\n",
              " 1876,\n",
              " 79,\n",
              " 109,\n",
              " 74,\n",
              " 549,\n",
              " 2621,\n",
              " 9743,\n",
              " 70,\n",
              " 2308,\n",
              " 3468,\n",
              " 4800,\n",
              " 3713,\n",
              " 328,\n",
              " 37,\n",
              " 4173,\n",
              " 8668,\n",
              " 79,\n",
              " 232,\n",
              " 88,\n",
              " 272,\n",
              " 2550,\n",
              " 319,\n",
              " 3714,\n",
              " 695,\n",
              " 3585,\n",
              " 5082,\n",
              " 171,\n",
              " 335,\n",
              " 5,\n",
              " 67,\n",
              " 1699,\n",
              " 1085,\n",
              " 741,\n",
              " 959,\n",
              " 72,\n",
              " 2693,\n",
              " 1198,\n",
              " 1409,\n",
              " 8669,\n",
              " 1519,\n",
              " 5,\n",
              " 877,\n",
              " 62]"
            ]
          },
          "metadata": {},
          "execution_count": 114
        }
      ]
    },
    {
      "cell_type": "markdown",
      "source": [
        "---\n",
        "<font color=green>Q6:</font>\n",
        "<br><font color='green'>\n",
        "Utilize `pad_sequences` from `tensorflow.keras.preprocessing.sequence` to convert the list of sequences into an $(N, T)$ tensor, which should be named `data`. (Here, set `T` to 300.)\n",
        "</font>\n",
        "\n",
        "---"
      ],
      "metadata": {
        "id": "29Z5JwuLwTWp"
      }
    },
    {
      "cell_type": "code",
      "source": [
        "data = tf.keras.utils.pad_sequences(sequences, maxlen=300, padding='post')"
      ],
      "metadata": {
        "id": "ZE-j515t-iqI"
      },
      "execution_count": 115,
      "outputs": []
    },
    {
      "cell_type": "markdown",
      "source": [
        "---\n",
        "<font color=green>Q7:</font>\n",
        "<br><font color='green'>\n",
        "Randomize the rows of the $(N, T)$ tensor `data`. Next, divide the data into two parts: 80% for training and 20% for testing. Lastly, apply one-hot encoding to the targets, converting them into $(N_1, K)$ and $(N_2, K)$ tensors, where $N_1$ and $N_2$ represent the sizes of the training and test datasets, respectively, and $K$ stands for the total number of unique categories.\n",
        "\n",
        "</font>\n",
        "\n",
        "---"
      ],
      "metadata": {
        "id": "NpPFZu9_wUPQ"
      }
    },
    {
      "cell_type": "code",
      "source": [
        "n = data.shape[0]\n",
        "print(n)"
      ],
      "metadata": {
        "id": "gCJnnpvf-kZY",
        "colab": {
          "base_uri": "https://localhost:8080/"
        },
        "outputId": "daf3eb28-7192-4fff-f3a0-fde022e8defe"
      },
      "execution_count": 116,
      "outputs": [
        {
          "output_type": "stream",
          "name": "stdout",
          "text": [
            "2225\n"
          ]
        }
      ]
    },
    {
      "cell_type": "code",
      "source": [
        "indices = np.arange(n)"
      ],
      "metadata": {
        "id": "V_EqG_tSdKtB"
      },
      "execution_count": 117,
      "outputs": []
    },
    {
      "cell_type": "code",
      "source": [
        "data = data[indices]\n",
        "labels = labels[indices]"
      ],
      "metadata": {
        "id": "_ZL_Wz-QdSkV"
      },
      "execution_count": 118,
      "outputs": []
    },
    {
      "cell_type": "code",
      "source": [
        "X_train = data[:int(0.8*n)]\n",
        "X_test = data[int(0.8*n):]\n",
        "\n",
        "training_labels = labels[:int(0.8*n)]\n",
        "testing_labels = labels[int(0.8*n):]"
      ],
      "metadata": {
        "id": "2akx63PDdci-"
      },
      "execution_count": 119,
      "outputs": []
    },
    {
      "cell_type": "code",
      "source": [
        "y_train = tf.keras.utils.to_categorical(training_labels, num_classes=5)\n",
        "y_test = tf.keras.utils.to_categorical(testing_labels, num_classes=5)"
      ],
      "metadata": {
        "id": "eZFzx4nceCL-"
      },
      "execution_count": 120,
      "outputs": []
    },
    {
      "cell_type": "code",
      "source": [
        "# One hot encoding applied to the targets"
      ],
      "metadata": {
        "id": "xW586vCxsUl2"
      },
      "execution_count": null,
      "outputs": []
    },
    {
      "cell_type": "code",
      "source": [
        "training_labels[0]"
      ],
      "metadata": {
        "colab": {
          "base_uri": "https://localhost:8080/"
        },
        "id": "spMOJ8Zyeevl",
        "outputId": "d00ce526-0966-4026-8b4a-cecdc6bf78d1"
      },
      "execution_count": 121,
      "outputs": [
        {
          "output_type": "execute_result",
          "data": {
            "text/plain": [
              "np.int64(0)"
            ]
          },
          "metadata": {},
          "execution_count": 121
        }
      ]
    },
    {
      "cell_type": "code",
      "source": [
        "y_train[0]"
      ],
      "metadata": {
        "colab": {
          "base_uri": "https://localhost:8080/"
        },
        "id": "yMpl8gVjeiS5",
        "outputId": "7013f1d0-9fe3-4d6c-b9c0-62e00261df7e"
      },
      "execution_count": 122,
      "outputs": [
        {
          "output_type": "execute_result",
          "data": {
            "text/plain": [
              "array([1., 0., 0., 0., 0.])"
            ]
          },
          "metadata": {},
          "execution_count": 122
        }
      ]
    },
    {
      "cell_type": "markdown",
      "metadata": {
        "id": "2eA3qWg0I1Zg"
      },
      "source": [
        "# 2. Creating the Embedding Matrix"
      ]
    },
    {
      "cell_type": "markdown",
      "metadata": {
        "id": "ZWCqXdikD4IZ"
      },
      "source": [
        "## 2.1 Creating the Embedding index dictionary"
      ]
    },
    {
      "cell_type": "markdown",
      "metadata": {
        "id": "X-Bt1nNrRFGa"
      },
      "source": [
        "In this part, our aim is to utilize a pretrained embedding matrix.\n",
        "\n",
        "During the course, we discussed the **Word2vec** technique.\n",
        "\n",
        "For this session, we'll be implementing the **Glove** pretrained vectors.\n",
        "\n",
        "These vectors are precomputed embeddings for millions of English words, developed based on various corpora, including the Wikipedia dataset.\n",
        "\n",
        "For additional details, refer to the documentation available [here](https://nlp.stanford.edu/projects/glove).\n",
        "\n"
      ]
    },
    {
      "cell_type": "markdown",
      "source": [
        "---\n",
        "<font color=green>Q8:</font>\n",
        "<br><font color='green'>\n",
        "Run the following code to download the precomputed embeddings from 2014 English Wikipedia. It’s an 822 MB zip file called glove.6B.zip, containing different D-dimensional embedding vectors for 400,000 words (or nonword tokens). Unzip it and store in the folder named `glove.6B`.\n",
        "</font>\n",
        "\n",
        "---"
      ],
      "metadata": {
        "id": "gopxLY8AwXUY"
      }
    },
    {
      "cell_type": "code",
      "source": [
        "# Download the zip file\n",
        "!wget http://nlp.stanford.edu/data/glove.6B.zip"
      ],
      "metadata": {
        "colab": {
          "base_uri": "https://localhost:8080/"
        },
        "id": "_7xk2hsPtfxP",
        "outputId": "1e74a8aa-fe9d-42ab-8937-d844e5a85298"
      },
      "execution_count": 86,
      "outputs": [
        {
          "output_type": "stream",
          "name": "stdout",
          "text": [
            "--2025-05-30 09:31:16--  http://nlp.stanford.edu/data/glove.6B.zip\n",
            "Resolving nlp.stanford.edu (nlp.stanford.edu)... 171.64.67.140\n",
            "Connecting to nlp.stanford.edu (nlp.stanford.edu)|171.64.67.140|:80... connected.\n",
            "HTTP request sent, awaiting response... 302 Found\n",
            "Location: https://nlp.stanford.edu/data/glove.6B.zip [following]\n",
            "--2025-05-30 09:31:17--  https://nlp.stanford.edu/data/glove.6B.zip\n",
            "Connecting to nlp.stanford.edu (nlp.stanford.edu)|171.64.67.140|:443... connected.\n",
            "HTTP request sent, awaiting response... 301 Moved Permanently\n",
            "Location: https://downloads.cs.stanford.edu/nlp/data/glove.6B.zip [following]\n",
            "--2025-05-30 09:31:17--  https://downloads.cs.stanford.edu/nlp/data/glove.6B.zip\n",
            "Resolving downloads.cs.stanford.edu (downloads.cs.stanford.edu)... 171.64.64.22\n",
            "Connecting to downloads.cs.stanford.edu (downloads.cs.stanford.edu)|171.64.64.22|:443... connected.\n",
            "HTTP request sent, awaiting response... 200 OK\n",
            "Length: 862182613 (822M) [application/zip]\n",
            "Saving to: ‘glove.6B.zip’\n",
            "\n",
            "glove.6B.zip        100%[===================>] 822.24M  5.04MB/s    in 2m 41s  \n",
            "\n",
            "2025-05-30 09:33:58 (5.12 MB/s) - ‘glove.6B.zip’ saved [862182613/862182613]\n",
            "\n"
          ]
        }
      ]
    },
    {
      "cell_type": "code",
      "source": [
        "# Unzip it and put the files in the destination folder `glove.6B`\n",
        "!unzip glove*.zip -d glove.6B"
      ],
      "metadata": {
        "id": "OTYDAMed3mO8",
        "colab": {
          "base_uri": "https://localhost:8080/"
        },
        "outputId": "dc0dd2e8-7600-4d85-d56f-6fb3fb83f17f"
      },
      "execution_count": 87,
      "outputs": [
        {
          "output_type": "stream",
          "name": "stdout",
          "text": [
            "Archive:  glove.6B.zip\n",
            "  inflating: glove.6B/glove.6B.50d.txt  \n",
            "  inflating: glove.6B/glove.6B.100d.txt  \n",
            "  inflating: glove.6B/glove.6B.200d.txt  \n",
            "  inflating: glove.6B/glove.6B.300d.txt  \n"
          ]
        }
      ]
    },
    {
      "cell_type": "markdown",
      "source": [
        "---\n",
        "<font color=green>Q9:</font>\n",
        "<br><font color='green'>\n",
        "Create a dictionary called `embedding_index` that maps each word to a vector of size 200 as shown in the following figure:\n",
        "</font>\n",
        "\n",
        "---"
      ],
      "metadata": {
        "id": "IrFsjBQkwYMt"
      }
    },
    {
      "cell_type": "markdown",
      "source": [
        "<center><img width=“1000\" src = \"https://drive.google.com/uc?export=view&id=1fUAxpg7IU-bYQgntkV6YghOCqTVGwSt1\"></center>"
      ],
      "metadata": {
        "id": "PbXFogNR0SL4"
      }
    },
    {
      "cell_type": "code",
      "source": [
        "# Directory of the Embedding file\n",
        "dir_glove = os.path.join(os.getcwd(),'glove.6B')\n",
        "\n",
        "\n",
        "# Create the dictionary\n",
        "embedding_index = {}\n",
        "\n",
        "f = open(os.path.join(dir_glove, \"glove.6B.200d.txt\"), encoding = \"utf8\")\n",
        "for line in f:\n",
        "  big_vector = line.split()\n",
        "  word = big_vector[0]\n",
        "  embedding_vector = np.asarray(big_vector[1:], dtype='float32')\n",
        "  embedding_index[word] = embedding_vector"
      ],
      "metadata": {
        "id": "P7FRPLx14248"
      },
      "execution_count": 124,
      "outputs": []
    },
    {
      "cell_type": "code",
      "source": [
        "embedding_index['the']"
      ],
      "metadata": {
        "colab": {
          "base_uri": "https://localhost:8080/"
        },
        "id": "j_8f_pZbkhLs",
        "outputId": "5dc3ab49-3bbe-4c85-f062-f69b234102aa"
      },
      "execution_count": 125,
      "outputs": [
        {
          "output_type": "execute_result",
          "data": {
            "text/plain": [
              "array([-7.1549e-02,  9.3459e-02,  2.3738e-02, -9.0339e-02,  5.6123e-02,\n",
              "        3.2547e-01, -3.9796e-01, -9.2139e-02,  6.1181e-02, -1.8950e-01,\n",
              "        1.3061e-01,  1.4349e-01,  1.1479e-02,  3.8158e-01,  5.4030e-01,\n",
              "       -1.4088e-01,  2.4315e-01,  2.3036e-01, -5.5339e-01,  4.8154e-02,\n",
              "        4.5662e-01,  3.2338e+00,  2.0199e-02,  4.9019e-02, -1.4132e-02,\n",
              "        7.6017e-02, -1.1527e-01,  2.0060e-01, -7.7657e-02,  2.4328e-01,\n",
              "        1.6368e-01, -3.4118e-01, -6.6070e-02,  1.0152e-01,  3.8232e-02,\n",
              "       -1.7668e-01, -8.8153e-01, -3.3895e-01, -3.5481e-02, -5.5095e-01,\n",
              "       -1.6899e-02, -4.3982e-01,  3.9004e-02,  4.0447e-01, -2.5880e-01,\n",
              "        6.4594e-01,  2.6641e-01,  2.8009e-01, -2.4625e-02,  6.3302e-01,\n",
              "       -3.1700e-01,  1.0271e-01,  3.0886e-01,  9.7792e-02, -3.8227e-01,\n",
              "        8.6552e-02,  4.7075e-02,  2.3511e-01, -3.2127e-01, -2.8538e-01,\n",
              "        1.6670e-01, -4.9707e-03, -6.2714e-01, -2.4904e-01,  2.9713e-01,\n",
              "        1.4379e-01, -1.2325e-01, -5.8178e-02, -1.0290e-03, -8.2126e-02,\n",
              "        3.6935e-01, -5.8442e-04,  3.4286e-01,  2.8426e-01, -6.8599e-02,\n",
              "        6.5747e-01, -2.9087e-02,  1.6184e-01,  7.3672e-02, -3.0343e-01,\n",
              "        9.5733e-02, -5.2860e-01, -2.2898e-01,  6.4079e-02,  1.5218e-02,\n",
              "        3.4921e-01, -4.3960e-01, -4.3983e-01,  7.7515e-01, -8.7767e-01,\n",
              "       -8.7504e-02,  3.9598e-01,  6.2362e-01, -2.6211e-01, -3.0539e-01,\n",
              "       -2.2964e-02,  3.0567e-01,  6.7660e-02,  1.5383e-01, -1.1211e-01,\n",
              "       -9.1540e-02,  8.2562e-02,  1.6897e-01, -3.2952e-02, -2.8775e-01,\n",
              "       -2.2320e-01, -9.0426e-02,  1.2407e+00, -1.8244e-01, -7.5219e-03,\n",
              "       -4.1388e-02, -1.1083e-02,  7.8186e-02,  3.8511e-01,  2.3334e-01,\n",
              "        1.4414e-01, -9.1070e-04, -2.6388e-01, -2.0481e-01,  1.0099e-01,\n",
              "        1.4076e-01,  2.8834e-01, -4.5429e-02,  3.7247e-01,  1.3645e-01,\n",
              "       -6.7457e-01,  2.2786e-01,  1.2599e-01,  2.9091e-02,  3.0428e-02,\n",
              "       -1.3028e-01,  1.9408e-01,  4.9014e-01, -3.9121e-01, -7.5952e-02,\n",
              "        7.4731e-02,  1.8902e-01, -1.6922e-01, -2.6019e-01, -3.9771e-02,\n",
              "       -2.4153e-01,  1.0875e-01,  3.0434e-01,  3.6009e-02,  1.4264e+00,\n",
              "        1.2759e-01, -7.3811e-02, -2.0418e-01,  8.0016e-03,  1.5381e-01,\n",
              "        2.0223e-01,  2.8274e-01,  9.6206e-02, -3.3634e-01,  5.0983e-01,\n",
              "        3.2625e-01, -2.6535e-01,  3.7400e-01, -3.0388e-01, -4.0033e-01,\n",
              "       -4.2910e-02, -6.7897e-02, -2.9332e-01,  1.0978e-01, -4.5365e-02,\n",
              "        2.3222e-01, -3.1134e-01, -2.8983e-01, -6.6687e-01,  5.3097e-01,\n",
              "        1.9461e-01,  3.6670e-01,  2.6185e-01, -6.5187e-01,  1.0266e-01,\n",
              "        1.1363e-01, -1.2953e-01, -6.8246e-01, -1.8751e-01,  1.4760e-01,\n",
              "        1.0765e+00, -2.2908e-01, -9.3435e-03, -2.0651e-01, -3.5225e-01,\n",
              "       -2.6720e-01, -3.4307e-03,  2.5906e-01,  2.1759e-01,  6.6158e-01,\n",
              "        1.2180e-01,  1.9957e-01, -2.0303e-01,  3.4474e-01, -2.4328e-01,\n",
              "        1.3139e-01, -8.8767e-03,  3.3617e-01,  3.0591e-02,  2.5577e-01],\n",
              "      dtype=float32)"
            ]
          },
          "metadata": {},
          "execution_count": 125
        }
      ]
    },
    {
      "cell_type": "markdown",
      "metadata": {
        "id": "_q38bn4fEfX0"
      },
      "source": [
        "## 2.2. Creating the Embedding matrix"
      ]
    },
    {
      "cell_type": "markdown",
      "source": [
        "---\n",
        "<font color=green>Q10:</font>\n",
        "<br><font color='green'>\n",
        "Construct a matrix named `embedding_matrix` with dimensions `(V, D)`, where `D` represents the dimension of the embeddings, and `V` is the size of the vocabulary.\n",
        "\n",
        "- In this matrix, each row `k` should contain the embedding vector corresponding to the word indexed by `k` in the `embedding_index` dictionary.\n",
        "- If a word indexed by `k` does not exist in the `embedding_index` dictionary, it should be represented by a zero vector in the `embedding_matrix`.\n",
        "\n",
        "</font>\n",
        "\n",
        "---"
      ],
      "metadata": {
        "id": "obJui7BCwako"
      }
    },
    {
      "cell_type": "markdown",
      "source": [
        "<center><img width=“300\" src = \"https://drive.google.com/uc?export=view&id=1KM1n5qSajHkf4ItxycCddcjq2MhkSS8e\"></center>"
      ],
      "metadata": {
        "id": "DSdkBi6F0TqZ"
      }
    },
    {
      "cell_type": "code",
      "source": [
        "# using glove.6B.200d.txt\n",
        "D=200\n",
        "# V = vocabulary size, D = the vector length of every word\n",
        "embedding_matrix = np.zeros((V,D))\n",
        "\n",
        "for word, index in word_index.items():\n",
        "  if index < V:\n",
        "    embedding_vector = embedding_index.get(word)\n",
        "    if embedding_vector is not None:\n",
        "      embedding_matrix[index] = embedding_vector"
      ],
      "metadata": {
        "id": "yR5IZv7I48JD"
      },
      "execution_count": 126,
      "outputs": []
    },
    {
      "cell_type": "code",
      "source": [
        "revert_index_word ={value:key for key, value in word_index.items()}"
      ],
      "metadata": {
        "id": "Tbw2BflYoQLs"
      },
      "execution_count": 127,
      "outputs": []
    },
    {
      "cell_type": "code",
      "source": [
        "revert_index_word[1]"
      ],
      "metadata": {
        "colab": {
          "base_uri": "https://localhost:8080/",
          "height": 35
        },
        "id": "It7XJkt0oa-R",
        "outputId": "76850a71-3d13-4bb8-e0ed-35e1088ebb10"
      },
      "execution_count": 128,
      "outputs": [
        {
          "output_type": "execute_result",
          "data": {
            "text/plain": [
              "'said'"
            ],
            "application/vnd.google.colaboratory.intrinsic+json": {
              "type": "string"
            }
          },
          "metadata": {},
          "execution_count": 128
        }
      ]
    },
    {
      "cell_type": "code",
      "source": [
        "embedding_matrix[1]"
      ],
      "metadata": {
        "colab": {
          "base_uri": "https://localhost:8080/"
        },
        "id": "4ORv3uV_n7zP",
        "outputId": "0c74f28b-578d-4b07-a467-160e0ee489e0"
      },
      "execution_count": 129,
      "outputs": [
        {
          "output_type": "execute_result",
          "data": {
            "text/plain": [
              "array([-1.35690004e-01,  1.40290007e-01,  4.19879984e-03, -3.20620000e-01,\n",
              "        1.27450004e-02,  9.25109982e-01, -4.45230007e-01, -1.64539993e-01,\n",
              "        6.01599991e-01,  4.26699996e-01,  2.60529995e-01,  7.14259982e-01,\n",
              "        5.77009976e-01, -9.75399986e-02,  6.42859995e-01, -2.43799994e-04,\n",
              "       -3.01299989e-01,  9.70569998e-02, -2.16780007e-01, -2.71310002e-01,\n",
              "        3.09269994e-01,  3.00620008e+00, -3.17900002e-01,  2.89979994e-01,\n",
              "       -3.99049997e-01,  1.12340003e-01,  1.90190002e-01, -4.98730004e-01,\n",
              "        1.18570000e-01, -2.22409993e-01, -5.26679993e-01, -4.07809988e-02,\n",
              "       -1.67830005e-01, -3.58870000e-01,  6.03940010e-01, -6.90269992e-02,\n",
              "       -6.06109977e-01, -2.24439994e-01, -5.16650021e-01,  7.77660012e-01,\n",
              "       -4.15329993e-01, -2.39240006e-01, -6.47249997e-01,  1.64130002e-01,\n",
              "       -4.11850005e-01, -1.55070007e-01,  5.20850003e-01, -2.92979985e-01,\n",
              "        3.40670012e-02, -7.14139998e-01,  1.71240002e-01,  1.81860000e-01,\n",
              "       -6.28239989e-01, -2.18820006e-01, -3.78399998e-01, -6.04839981e-01,\n",
              "       -1.06129996e-01, -6.57230010e-03,  5.28729975e-01, -1.25369996e-01,\n",
              "        1.15190005e+00,  1.65120006e-01, -1.23010002e-01,  7.34520018e-01,\n",
              "        1.53809994e-01, -2.13029999e-02, -4.18500006e-01,  3.21319997e-01,\n",
              "       -5.66969991e-01,  5.88859975e-01, -1.95639998e-01, -1.67099997e-01,\n",
              "        3.59690011e-01,  4.28979993e-01, -7.11039975e-02,  5.01649976e-01,\n",
              "        1.52480006e-01, -8.95349979e-02, -6.71920002e-01,  1.81700006e-01,\n",
              "       -3.06609999e-02, -2.02889994e-01, -2.39250004e-01,  3.38990003e-01,\n",
              "        8.84549990e-02, -1.66140005e-01, -7.89020002e-01,  1.44030005e-01,\n",
              "       -2.22560003e-01, -1.37699997e+00,  3.83989990e-01, -1.49289995e-01,\n",
              "       -1.68669999e-01, -7.31939971e-01, -7.67840028e-01,  9.69680011e-01,\n",
              "        2.68040001e-01,  3.60359997e-01, -3.38959992e-01, -1.73030004e-01,\n",
              "        3.86599988e-01, -7.61539996e-01, -5.23350000e-01,  9.10269991e-02,\n",
              "        4.90860008e-02,  5.97469993e-02,  1.31650001e-01,  1.90480006e+00,\n",
              "       -7.73239970e-01, -9.44549963e-02,  1.78049996e-01, -9.62560028e-02,\n",
              "        6.84000030e-02, -3.67289990e-01,  1.13469996e-02,  1.21469997e-01,\n",
              "        2.45299995e-01, -4.35400009e-01, -1.73299998e-01,  3.61809999e-01,\n",
              "        7.89020002e-01,  6.64579988e-01,  4.55229998e-01,  7.91049972e-02,\n",
              "        3.02379996e-01, -2.99910009e-01, -2.51610011e-01, -6.01119995e-02,\n",
              "        5.98349988e-01, -5.43450005e-06,  4.73960012e-01, -2.50349998e-01,\n",
              "       -1.65490001e-01,  5.40220022e-01,  6.20289981e-01,  4.32269990e-01,\n",
              "        4.46559995e-01, -4.50329989e-01, -2.27259994e-01, -6.02229983e-02,\n",
              "        4.27810013e-01,  3.46679986e-01, -3.84909987e-01, -2.51670003e-01,\n",
              "        1.09689999e+00,  6.66040003e-01,  3.65419984e-02, -3.24849993e-01,\n",
              "        4.28900003e-01,  1.37620002e-01, -2.23260000e-01,  6.98710024e-01,\n",
              "        2.38409996e-01,  8.90129983e-01,  2.38989994e-01, -5.17139971e-01,\n",
              "       -5.00050001e-02,  1.48699999e-01,  5.54019995e-02, -4.11630005e-01,\n",
              "       -3.34540009e-01, -1.40319997e-02,  3.64760011e-01, -2.34109998e-01,\n",
              "       -1.32719994e-01, -5.03140017e-02,  1.95930004e-01,  1.61929995e-01,\n",
              "        2.87339985e-01,  1.34780005e-01,  7.47150004e-01, -6.08059987e-02,\n",
              "        1.42210007e-01,  4.71090004e-02, -4.48659986e-01, -4.07999992e-01,\n",
              "       -6.84750021e-01, -2.52359986e-01,  1.62330002e-01, -3.34540009e-01,\n",
              "        6.90209985e-01, -3.69580001e-01, -4.33800012e-01, -9.99080017e-02,\n",
              "       -5.38469970e-01, -1.68610007e-01, -5.46840012e-01,  4.00519997e-01,\n",
              "        1.14579998e-01,  4.56880003e-01,  2.84150004e-01,  4.33290005e-01,\n",
              "        1.10119998e-01,  2.29580000e-01,  2.40160003e-02,  2.06949994e-01,\n",
              "        2.37590000e-01,  8.79480038e-03, -1.30170003e-01, -2.56260008e-01])"
            ]
          },
          "metadata": {},
          "execution_count": 129
        }
      ]
    },
    {
      "cell_type": "markdown",
      "metadata": {
        "id": "9hwsH3FrK6pF"
      },
      "source": [
        "# 3. Creating the Model"
      ]
    },
    {
      "cell_type": "markdown",
      "metadata": {
        "id": "t8D40WPBK_TH"
      },
      "source": [
        "## 3.1 Using pre-trained word vectors (embedding_matrix) from GloVe"
      ]
    },
    {
      "cell_type": "markdown",
      "source": [
        "---\n",
        "<font color=green>Q11:</font>\n",
        "<br><font color='green'>\n",
        "Create an embedding layer named `embedding_layer` using `Embedding` from `tensorflow.keras.layers`.\n",
        "\n",
        "- This layer should convert an `(N, T)` tensor of integers into an `(N, T, D)` tensor.\n",
        "- Populate the `embedding_layer` with the `embedding_matrix`.\n",
        "\n",
        "</font>\n",
        "\n",
        "---"
      ],
      "metadata": {
        "id": "zS7Z2hcVwbP4"
      }
    },
    {
      "cell_type": "markdown",
      "source": [
        "<center><img width=“700\" src = \"https://drive.google.com/uc?export=view&id=1EdfK87ayAWSEXfr-A60JbXxBuXqd-QL0\"></center>"
      ],
      "metadata": {
        "id": "KnxHOmFA0VOs"
      }
    },
    {
      "cell_type": "code",
      "source": [
        "embedding_layer = tf.keras.layers.Embedding(V,\n",
        "                                            D,\n",
        "                                            weights=[embedding_matrix],\n",
        "                                            trainable=False)"
      ],
      "metadata": {
        "id": "-v7gZSAj-sy4"
      },
      "execution_count": 130,
      "outputs": []
    },
    {
      "cell_type": "markdown",
      "source": [
        "---\n",
        "<font color=green>Q12:</font>\n",
        "<br><font color='green'>\n",
        "Create the following model:\n",
        "</font>\n",
        "\n",
        "---"
      ],
      "metadata": {
        "id": "w1VIMWNQwb_i"
      }
    },
    {
      "cell_type": "markdown",
      "source": [
        "<center><img width=“700\" src = \"https://drive.google.com/uc?export=view&id=1ybUjIhriRWlMeTtn2NBiMzPXIQuTRZY3\"></center>"
      ],
      "metadata": {
        "id": "zBWDZJZo0Wgh"
      }
    },
    {
      "cell_type": "code",
      "source": [
        "from tensorflow.keras.models import Sequential\n",
        "from tensorflow.keras.layers import LSTM, Dense, Input, Embedding\n",
        "\n",
        "\n",
        "# Set hyperparameters\n",
        "d_1 = 32 # output dimension of the first LSTM layer\n",
        "d_2 = 32 # output dimension of the second LSTM layer\n",
        "K = 5 # Output dimension of the last layer\n",
        "T = 300\n",
        "\n",
        "model = Sequential()\n",
        "model.add(Input(shape=(T,)))\n",
        "model.add(embedding_layer)\n",
        "model.add(LSTM(d_1, return_sequences=True))\n",
        "model.add(LSTM(d_2, return_sequences=False)) #only extract last sequence\n",
        "model.add(Dense(K, activation='softmax'))"
      ],
      "metadata": {
        "id": "RaTkb2-45t-B"
      },
      "execution_count": 131,
      "outputs": []
    },
    {
      "cell_type": "markdown",
      "source": [
        "---\n",
        "<font color=green>Q13:</font>\n",
        "<br><font color='green'>\n",
        "Compile your model, selecting the **Adam** optimization algorithm instead of Stochastic Gradient Descent. For further information on the Adam optimizer, consult the documentation [here](https://arxiv.org/pdf/1412.6980.pdf). Additionally, set different evaluation metrics for the model, such as Accuracy, Precision, and Recall.\n",
        "\n",
        "</font>\n",
        "\n",
        "---"
      ],
      "metadata": {
        "id": "Nr_AoTPZwdIY"
      }
    },
    {
      "cell_type": "markdown",
      "metadata": {
        "id": "GpuHUPB1i0ho"
      },
      "source": [
        "\n",
        "\n",
        "Adam is a modern adaptive learning rate technique, often considered as the default algorithm for many DL practitioners. It combines the idea of **momentum** and **adaptive learning rate** as shown in the following figure:\n",
        "\n"
      ]
    },
    {
      "cell_type": "markdown",
      "source": [
        "<center><img width=“700\" src = \"https://drive.google.com/uc?export=view&id=1IsjiRu3oMiRmky0AgZyr_sl97LqqJtOj\"></center>"
      ],
      "metadata": {
        "id": "KnZQKOI-0YEb"
      }
    },
    {
      "cell_type": "code",
      "metadata": {
        "id": "1KQxh-Mqivqo"
      },
      "source": [
        "model.compile(optimizer='adam',\n",
        "              loss='categorical_crossentropy',\n",
        "              metrics=['accuracy', 'Precision', 'Recall'])"
      ],
      "execution_count": 132,
      "outputs": []
    },
    {
      "cell_type": "markdown",
      "source": [
        "---\n",
        "<font color=green>Q14:</font>\n",
        "<br><font color='green'>\n",
        "Fit your model to the training data.\n",
        "* Use `EarlyStopping` from `tensorflow.keras.callbacks` to stop the training when the accuracy doesn't improve.\n",
        "\n",
        "* Use `ReduceLROnPlateau` from `tensorflow.keras.callbacks` to reduce the learning rate when the validation loss doesn't improve\n",
        "\n",
        "* Use `ModelCheckpoint` from `tensorflow.keras.callbacks` to save the best version of the model in a folder called `model`\n",
        "</font>\n",
        "\n",
        "---"
      ],
      "metadata": {
        "id": "AFuW6Cewwd2N"
      }
    },
    {
      "cell_type": "code",
      "metadata": {
        "id": "iSEW34_Wtvyu",
        "colab": {
          "base_uri": "https://localhost:8080/"
        },
        "outputId": "86a9311e-0917-44c2-82c8-a9785db71013"
      },
      "source": [
        "from tensorflow.keras.callbacks import EarlyStopping, ReduceLROnPlateau, ModelCheckpoint\n",
        "checkpoint_filepath = os.path.join(os.getcwd(), \"model.keras\")\n",
        "\n",
        "\n",
        "callbacks_list = [\n",
        "                  EarlyStopping( # Interrupt the training when there is no more improvement\n",
        "                      monitor = \"val_accuracy\", # Metric to monitor\n",
        "                      patience = 10 # Number of epochs before interrupting the training if there is no improvement\n",
        "                  ),\n",
        "                  ModelCheckpoint(\n",
        "                      filepath = checkpoint_filepath, # path to the destination model file\n",
        "                      monitor = \"val_loss\", # metric to monitor\n",
        "                      save_best_only = True # Keep the best model\n",
        "                  ),\n",
        "                  ReduceLROnPlateau(\n",
        "                      monitor = \"val_loss\", # metric to monitor\n",
        "                      factor = 0.1, # Multiply the lr by factor when triggered\n",
        "                      patience = 10 # Number of epochs of non improvement before the callback is triggered\n",
        "                  )\n",
        "]\n",
        "\n",
        "history = model.fit(\n",
        "          X_train, y_train,\n",
        "          epochs=20,\n",
        "          batch_size=252,\n",
        "          callbacks=callbacks_list,\n",
        "          validation_split=0.3)"
      ],
      "execution_count": 133,
      "outputs": [
        {
          "output_type": "stream",
          "name": "stdout",
          "text": [
            "Epoch 1/20\n",
            "\u001b[1m5/5\u001b[0m \u001b[32m━━━━━━━━━━━━━━━━━━━━\u001b[0m\u001b[37m\u001b[0m \u001b[1m17s\u001b[0m 2s/step - Precision: 0.0000e+00 - Recall: 0.0000e+00 - accuracy: 0.2075 - loss: 1.6021 - val_Precision: 0.0000e+00 - val_Recall: 0.0000e+00 - val_accuracy: 0.2790 - val_loss: 1.5895 - learning_rate: 0.0010\n",
            "Epoch 2/20\n",
            "\u001b[1m5/5\u001b[0m \u001b[32m━━━━━━━━━━━━━━━━━━━━\u001b[0m\u001b[37m\u001b[0m \u001b[1m8s\u001b[0m 2s/step - Precision: 0.0000e+00 - Recall: 0.0000e+00 - accuracy: 0.2779 - loss: 1.5795 - val_Precision: 0.0000e+00 - val_Recall: 0.0000e+00 - val_accuracy: 0.2809 - val_loss: 1.5736 - learning_rate: 0.0010\n",
            "Epoch 3/20\n",
            "\u001b[1m5/5\u001b[0m \u001b[32m━━━━━━━━━━━━━━━━━━━━\u001b[0m\u001b[37m\u001b[0m \u001b[1m7s\u001b[0m 1s/step - Precision: 1.0000 - Recall: 0.0070 - accuracy: 0.2754 - loss: 1.5626 - val_Precision: 0.8500 - val_Recall: 0.0318 - val_accuracy: 0.2828 - val_loss: 1.5604 - learning_rate: 0.0010\n",
            "Epoch 4/20\n",
            "\u001b[1m5/5\u001b[0m \u001b[32m━━━━━━━━━━━━━━━━━━━━\u001b[0m\u001b[37m\u001b[0m \u001b[1m10s\u001b[0m 1s/step - Precision: 0.9625 - Recall: 0.0388 - accuracy: 0.2805 - loss: 1.5428 - val_Precision: 0.8214 - val_Recall: 0.0431 - val_accuracy: 0.2959 - val_loss: 1.5448 - learning_rate: 0.0010\n",
            "Epoch 5/20\n",
            "\u001b[1m5/5\u001b[0m \u001b[32m━━━━━━━━━━━━━━━━━━━━\u001b[0m\u001b[37m\u001b[0m \u001b[1m7s\u001b[0m 2s/step - Precision: 0.9377 - Recall: 0.0533 - accuracy: 0.2915 - loss: 1.5070 - val_Precision: 0.8889 - val_Recall: 0.0449 - val_accuracy: 0.3071 - val_loss: 1.5264 - learning_rate: 0.0010\n",
            "Epoch 6/20\n",
            "\u001b[1m5/5\u001b[0m \u001b[32m━━━━━━━━━━━━━━━━━━━━\u001b[0m\u001b[37m\u001b[0m \u001b[1m6s\u001b[0m 1s/step - Precision: 0.9378 - Recall: 0.0603 - accuracy: 0.3186 - loss: 1.4860 - val_Precision: 0.8889 - val_Recall: 0.0599 - val_accuracy: 0.3221 - val_loss: 1.4965 - learning_rate: 0.0010\n",
            "Epoch 7/20\n",
            "\u001b[1m5/5\u001b[0m \u001b[32m━━━━━━━━━━━━━━━━━━━━\u001b[0m\u001b[37m\u001b[0m \u001b[1m12s\u001b[0m 2s/step - Precision: 0.9012 - Recall: 0.0834 - accuracy: 0.3524 - loss: 1.4438 - val_Precision: 0.7846 - val_Recall: 0.0955 - val_accuracy: 0.4176 - val_loss: 1.3908 - learning_rate: 0.0010\n",
            "Epoch 8/20\n",
            "\u001b[1m5/5\u001b[0m \u001b[32m━━━━━━━━━━━━━━━━━━━━\u001b[0m\u001b[37m\u001b[0m \u001b[1m7s\u001b[0m 1s/step - Precision: 0.5605 - Recall: 0.1606 - accuracy: 0.4563 - loss: 1.3529 - val_Precision: 0.6500 - val_Recall: 0.0730 - val_accuracy: 0.4850 - val_loss: 1.2618 - learning_rate: 0.0010\n",
            "Epoch 9/20\n",
            "\u001b[1m5/5\u001b[0m \u001b[32m━━━━━━━━━━━━━━━━━━━━\u001b[0m\u001b[37m\u001b[0m \u001b[1m10s\u001b[0m 1s/step - Precision: 0.5984 - Recall: 0.1926 - accuracy: 0.4503 - loss: 1.2162 - val_Precision: 0.6234 - val_Recall: 0.2697 - val_accuracy: 0.4719 - val_loss: 1.1715 - learning_rate: 0.0010\n",
            "Epoch 10/20\n",
            "\u001b[1m5/5\u001b[0m \u001b[32m━━━━━━━━━━━━━━━━━━━━\u001b[0m\u001b[37m\u001b[0m \u001b[1m5s\u001b[0m 1s/step - Precision: 0.6964 - Recall: 0.2864 - accuracy: 0.4903 - loss: 1.1144 - val_Precision: 0.8182 - val_Recall: 0.2697 - val_accuracy: 0.4682 - val_loss: 1.2032 - learning_rate: 0.0010\n",
            "Epoch 11/20\n",
            "\u001b[1m5/5\u001b[0m \u001b[32m━━━━━━━━━━━━━━━━━━━━\u001b[0m\u001b[37m\u001b[0m \u001b[1m8s\u001b[0m 2s/step - Precision: 0.8576 - Recall: 0.2652 - accuracy: 0.5015 - loss: 1.1656 - val_Precision: 0.7602 - val_Recall: 0.2790 - val_accuracy: 0.4757 - val_loss: 1.1690 - learning_rate: 0.0010\n",
            "Epoch 12/20\n",
            "\u001b[1m5/5\u001b[0m \u001b[32m━━━━━━━━━━━━━━━━━━━━\u001b[0m\u001b[37m\u001b[0m \u001b[1m8s\u001b[0m 1s/step - Precision: 0.7351 - Recall: 0.2787 - accuracy: 0.5196 - loss: 1.1031 - val_Precision: 0.5792 - val_Recall: 0.2809 - val_accuracy: 0.4682 - val_loss: 1.2078 - learning_rate: 0.0010\n",
            "Epoch 13/20\n",
            "\u001b[1m5/5\u001b[0m \u001b[32m━━━━━━━━━━━━━━━━━━━━\u001b[0m\u001b[37m\u001b[0m \u001b[1m10s\u001b[0m 1s/step - Precision: 0.6233 - Recall: 0.2842 - accuracy: 0.5262 - loss: 1.1154 - val_Precision: 0.7381 - val_Recall: 0.2903 - val_accuracy: 0.4925 - val_loss: 1.0940 - learning_rate: 0.0010\n",
            "Epoch 14/20\n",
            "\u001b[1m5/5\u001b[0m \u001b[32m━━━━━━━━━━━━━━━━━━━━\u001b[0m\u001b[37m\u001b[0m \u001b[1m11s\u001b[0m 1s/step - Precision: 0.8437 - Recall: 0.3096 - accuracy: 0.5604 - loss: 1.0342 - val_Precision: 0.7985 - val_Recall: 0.3933 - val_accuracy: 0.5431 - val_loss: 1.1093 - learning_rate: 0.0010\n",
            "Epoch 15/20\n",
            "\u001b[1m5/5\u001b[0m \u001b[32m━━━━━━━━━━━━━━━━━━━━\u001b[0m\u001b[37m\u001b[0m \u001b[1m11s\u001b[0m 2s/step - Precision: 0.8403 - Recall: 0.3525 - accuracy: 0.5881 - loss: 1.0407 - val_Precision: 0.7985 - val_Recall: 0.3933 - val_accuracy: 0.5787 - val_loss: 0.9887 - learning_rate: 0.0010\n",
            "Epoch 16/20\n",
            "\u001b[1m5/5\u001b[0m \u001b[32m━━━━━━━━━━━━━━━━━━━━\u001b[0m\u001b[37m\u001b[0m \u001b[1m8s\u001b[0m 1s/step - Precision: 0.7962 - Recall: 0.3899 - accuracy: 0.6205 - loss: 0.9624 - val_Precision: 0.7181 - val_Recall: 0.4007 - val_accuracy: 0.5562 - val_loss: 1.0379 - learning_rate: 0.0010\n",
            "Epoch 17/20\n",
            "\u001b[1m5/5\u001b[0m \u001b[32m━━━━━━━━━━━━━━━━━━━━\u001b[0m\u001b[37m\u001b[0m \u001b[1m8s\u001b[0m 2s/step - Precision: 0.7843 - Recall: 0.4083 - accuracy: 0.6196 - loss: 0.9383 - val_Precision: 0.7609 - val_Recall: 0.3933 - val_accuracy: 0.5562 - val_loss: 0.9939 - learning_rate: 0.0010\n",
            "Epoch 18/20\n",
            "\u001b[1m5/5\u001b[0m \u001b[32m━━━━━━━━━━━━━━━━━━━━\u001b[0m\u001b[37m\u001b[0m \u001b[1m5s\u001b[0m 1s/step - Precision: 0.8442 - Recall: 0.4035 - accuracy: 0.6232 - loss: 0.8788 - val_Precision: 0.7690 - val_Recall: 0.3989 - val_accuracy: 0.5581 - val_loss: 0.9679 - learning_rate: 0.0010\n",
            "Epoch 19/20\n",
            "\u001b[1m5/5\u001b[0m \u001b[32m━━━━━━━━━━━━━━━━━━━━\u001b[0m\u001b[37m\u001b[0m \u001b[1m12s\u001b[0m 2s/step - Precision: 0.8261 - Recall: 0.4097 - accuracy: 0.6102 - loss: 0.8836 - val_Precision: 0.8061 - val_Recall: 0.3970 - val_accuracy: 0.5506 - val_loss: 0.9583 - learning_rate: 0.0010\n",
            "Epoch 20/20\n",
            "\u001b[1m5/5\u001b[0m \u001b[32m━━━━━━━━━━━━━━━━━━━━\u001b[0m\u001b[37m\u001b[0m \u001b[1m8s\u001b[0m 1s/step - Precision: 0.8174 - Recall: 0.3985 - accuracy: 0.6065 - loss: 0.9226 - val_Precision: 0.4670 - val_Recall: 0.3577 - val_accuracy: 0.4382 - val_loss: 1.5611 - learning_rate: 0.0010\n"
          ]
        }
      ]
    },
    {
      "cell_type": "markdown",
      "source": [
        "---\n",
        "<font color=green>Q15:</font>\n",
        "<br><font color='green'>\n",
        "Test your model on the test data\n",
        "</font>\n",
        "\n",
        "---"
      ],
      "metadata": {
        "id": "6wcCrQY7wejP"
      }
    },
    {
      "cell_type": "code",
      "source": [
        "model.summary()"
      ],
      "metadata": {
        "id": "7mHQTSzvyOai",
        "outputId": "8eb67cd0-b251-40c8-959b-30093066c4b6",
        "colab": {
          "base_uri": "https://localhost:8080/",
          "height": 287
        }
      },
      "execution_count": 135,
      "outputs": [
        {
          "output_type": "display_data",
          "data": {
            "text/plain": [
              "\u001b[1mModel: \"sequential_1\"\u001b[0m\n"
            ],
            "text/html": [
              "<pre style=\"white-space:pre;overflow-x:auto;line-height:normal;font-family:Menlo,'DejaVu Sans Mono',consolas,'Courier New',monospace\"><span style=\"font-weight: bold\">Model: \"sequential_1\"</span>\n",
              "</pre>\n"
            ]
          },
          "metadata": {}
        },
        {
          "output_type": "display_data",
          "data": {
            "text/plain": [
              "┏━━━━━━━━━━━━━━━━━━━━━━━━━━━━━━━━━┳━━━━━━━━━━━━━━━━━━━━━━━━┳━━━━━━━━━━━━━━━┓\n",
              "┃\u001b[1m \u001b[0m\u001b[1mLayer (type)                   \u001b[0m\u001b[1m \u001b[0m┃\u001b[1m \u001b[0m\u001b[1mOutput Shape          \u001b[0m\u001b[1m \u001b[0m┃\u001b[1m \u001b[0m\u001b[1m      Param #\u001b[0m\u001b[1m \u001b[0m┃\n",
              "┡━━━━━━━━━━━━━━━━━━━━━━━━━━━━━━━━━╇━━━━━━━━━━━━━━━━━━━━━━━━╇━━━━━━━━━━━━━━━┩\n",
              "│ embedding_2 (\u001b[38;5;33mEmbedding\u001b[0m)         │ (\u001b[38;5;45mNone\u001b[0m, \u001b[38;5;34m300\u001b[0m, \u001b[38;5;34m200\u001b[0m)       │     \u001b[38;5;34m2,000,000\u001b[0m │\n",
              "├─────────────────────────────────┼────────────────────────┼───────────────┤\n",
              "│ lstm_2 (\u001b[38;5;33mLSTM\u001b[0m)                   │ (\u001b[38;5;45mNone\u001b[0m, \u001b[38;5;34m300\u001b[0m, \u001b[38;5;34m32\u001b[0m)        │        \u001b[38;5;34m29,824\u001b[0m │\n",
              "├─────────────────────────────────┼────────────────────────┼───────────────┤\n",
              "│ lstm_3 (\u001b[38;5;33mLSTM\u001b[0m)                   │ (\u001b[38;5;45mNone\u001b[0m, \u001b[38;5;34m32\u001b[0m)             │         \u001b[38;5;34m8,320\u001b[0m │\n",
              "├─────────────────────────────────┼────────────────────────┼───────────────┤\n",
              "│ dense_1 (\u001b[38;5;33mDense\u001b[0m)                 │ (\u001b[38;5;45mNone\u001b[0m, \u001b[38;5;34m5\u001b[0m)              │           \u001b[38;5;34m165\u001b[0m │\n",
              "└─────────────────────────────────┴────────────────────────┴───────────────┘\n"
            ],
            "text/html": [
              "<pre style=\"white-space:pre;overflow-x:auto;line-height:normal;font-family:Menlo,'DejaVu Sans Mono',consolas,'Courier New',monospace\">┏━━━━━━━━━━━━━━━━━━━━━━━━━━━━━━━━━┳━━━━━━━━━━━━━━━━━━━━━━━━┳━━━━━━━━━━━━━━━┓\n",
              "┃<span style=\"font-weight: bold\"> Layer (type)                    </span>┃<span style=\"font-weight: bold\"> Output Shape           </span>┃<span style=\"font-weight: bold\">       Param # </span>┃\n",
              "┡━━━━━━━━━━━━━━━━━━━━━━━━━━━━━━━━━╇━━━━━━━━━━━━━━━━━━━━━━━━╇━━━━━━━━━━━━━━━┩\n",
              "│ embedding_2 (<span style=\"color: #0087ff; text-decoration-color: #0087ff\">Embedding</span>)         │ (<span style=\"color: #00d7ff; text-decoration-color: #00d7ff\">None</span>, <span style=\"color: #00af00; text-decoration-color: #00af00\">300</span>, <span style=\"color: #00af00; text-decoration-color: #00af00\">200</span>)       │     <span style=\"color: #00af00; text-decoration-color: #00af00\">2,000,000</span> │\n",
              "├─────────────────────────────────┼────────────────────────┼───────────────┤\n",
              "│ lstm_2 (<span style=\"color: #0087ff; text-decoration-color: #0087ff\">LSTM</span>)                   │ (<span style=\"color: #00d7ff; text-decoration-color: #00d7ff\">None</span>, <span style=\"color: #00af00; text-decoration-color: #00af00\">300</span>, <span style=\"color: #00af00; text-decoration-color: #00af00\">32</span>)        │        <span style=\"color: #00af00; text-decoration-color: #00af00\">29,824</span> │\n",
              "├─────────────────────────────────┼────────────────────────┼───────────────┤\n",
              "│ lstm_3 (<span style=\"color: #0087ff; text-decoration-color: #0087ff\">LSTM</span>)                   │ (<span style=\"color: #00d7ff; text-decoration-color: #00d7ff\">None</span>, <span style=\"color: #00af00; text-decoration-color: #00af00\">32</span>)             │         <span style=\"color: #00af00; text-decoration-color: #00af00\">8,320</span> │\n",
              "├─────────────────────────────────┼────────────────────────┼───────────────┤\n",
              "│ dense_1 (<span style=\"color: #0087ff; text-decoration-color: #0087ff\">Dense</span>)                 │ (<span style=\"color: #00d7ff; text-decoration-color: #00d7ff\">None</span>, <span style=\"color: #00af00; text-decoration-color: #00af00\">5</span>)              │           <span style=\"color: #00af00; text-decoration-color: #00af00\">165</span> │\n",
              "└─────────────────────────────────┴────────────────────────┴───────────────┘\n",
              "</pre>\n"
            ]
          },
          "metadata": {}
        },
        {
          "output_type": "display_data",
          "data": {
            "text/plain": [
              "\u001b[1m Total params: \u001b[0m\u001b[38;5;34m2,114,929\u001b[0m (8.07 MB)\n"
            ],
            "text/html": [
              "<pre style=\"white-space:pre;overflow-x:auto;line-height:normal;font-family:Menlo,'DejaVu Sans Mono',consolas,'Courier New',monospace\"><span style=\"font-weight: bold\"> Total params: </span><span style=\"color: #00af00; text-decoration-color: #00af00\">2,114,929</span> (8.07 MB)\n",
              "</pre>\n"
            ]
          },
          "metadata": {}
        },
        {
          "output_type": "display_data",
          "data": {
            "text/plain": [
              "\u001b[1m Trainable params: \u001b[0m\u001b[38;5;34m38,309\u001b[0m (149.64 KB)\n"
            ],
            "text/html": [
              "<pre style=\"white-space:pre;overflow-x:auto;line-height:normal;font-family:Menlo,'DejaVu Sans Mono',consolas,'Courier New',monospace\"><span style=\"font-weight: bold\"> Trainable params: </span><span style=\"color: #00af00; text-decoration-color: #00af00\">38,309</span> (149.64 KB)\n",
              "</pre>\n"
            ]
          },
          "metadata": {}
        },
        {
          "output_type": "display_data",
          "data": {
            "text/plain": [
              "\u001b[1m Non-trainable params: \u001b[0m\u001b[38;5;34m2,000,000\u001b[0m (7.63 MB)\n"
            ],
            "text/html": [
              "<pre style=\"white-space:pre;overflow-x:auto;line-height:normal;font-family:Menlo,'DejaVu Sans Mono',consolas,'Courier New',monospace\"><span style=\"font-weight: bold\"> Non-trainable params: </span><span style=\"color: #00af00; text-decoration-color: #00af00\">2,000,000</span> (7.63 MB)\n",
              "</pre>\n"
            ]
          },
          "metadata": {}
        },
        {
          "output_type": "display_data",
          "data": {
            "text/plain": [
              "\u001b[1m Optimizer params: \u001b[0m\u001b[38;5;34m76,620\u001b[0m (299.30 KB)\n"
            ],
            "text/html": [
              "<pre style=\"white-space:pre;overflow-x:auto;line-height:normal;font-family:Menlo,'DejaVu Sans Mono',consolas,'Courier New',monospace\"><span style=\"font-weight: bold\"> Optimizer params: </span><span style=\"color: #00af00; text-decoration-color: #00af00\">76,620</span> (299.30 KB)\n",
              "</pre>\n"
            ]
          },
          "metadata": {}
        }
      ]
    },
    {
      "cell_type": "code",
      "source": [
        "from tensorflow.keras.models import load_model\n",
        "\n",
        "# Load the best model from the checkpoint\n",
        "best_model = load_model(checkpoint_filepath)"
      ],
      "metadata": {
        "id": "tepM9f-9vB9w"
      },
      "execution_count": 136,
      "outputs": []
    },
    {
      "cell_type": "code",
      "source": [
        "# Evaluate the model"
      ],
      "metadata": {
        "colab": {
          "base_uri": "https://localhost:8080/"
        },
        "id": "xza2c16O8dMl",
        "outputId": "0b73a06f-b7f4-4229-98cf-68724f8d1331"
      },
      "execution_count": null,
      "outputs": [
        {
          "output_type": "stream",
          "name": "stdout",
          "text": [
            "\u001b[1m14/14\u001b[0m \u001b[32m━━━━━━━━━━━━━━━━━━━━\u001b[0m\u001b[37m\u001b[0m \u001b[1m3s\u001b[0m 114ms/step - accuracy: 0.9416 - loss: 0.2157 - precision: 0.9434 - recall: 0.9416\n"
          ]
        },
        {
          "output_type": "execute_result",
          "data": {
            "text/plain": [
              "[0.20751884579658508, 0.9460673928260803, 0.95033860206604, 0.9460673928260803]"
            ]
          },
          "metadata": {},
          "execution_count": 209
        }
      ]
    },
    {
      "cell_type": "markdown",
      "source": [
        "---\n",
        "<font color=green>Q16:</font>\n",
        "<br><font color='green'>\n",
        "Plot the training and validation loss\n",
        "</font>\n",
        "\n",
        "---"
      ],
      "metadata": {
        "id": "iF0p3wG3wfcq"
      }
    },
    {
      "cell_type": "code",
      "metadata": {
        "id": "7yaIvxYbd36U",
        "colab": {
          "base_uri": "https://localhost:8080/",
          "height": 641
        },
        "outputId": "c7ebb3a7-1fd9-4ce9-c464-6c6f5c8bb9e0"
      },
      "source": [],
      "execution_count": null,
      "outputs": [
        {
          "output_type": "display_data",
          "data": {
            "text/plain": [
              "<Figure size 1000x700 with 1 Axes>"
            ],
            "image/png": "[encoded data removed]"
          },
          "metadata": {}
        }
      ]
    },
    {
      "cell_type": "markdown",
      "source": [
        "---\n",
        "<font color=green>Q17:</font>\n",
        "<br><font color='green'>\n",
        "Plot the training and validation accuracy\n",
        "</font>\n",
        "\n",
        "---"
      ],
      "metadata": {
        "id": "1PIinMztwkPA"
      }
    },
    {
      "cell_type": "code",
      "source": [],
      "metadata": {
        "id": "jU3G8avI_BJu"
      },
      "execution_count": null,
      "outputs": []
    },
    {
      "cell_type": "markdown",
      "source": [
        "---\n",
        "<font color=green>Q18:</font>\n",
        "<br><font color='green'>\n",
        "Plot the training and validation precision\n",
        "</font>\n",
        "\n",
        "---"
      ],
      "metadata": {
        "id": "DGaemsu4wky4"
      }
    },
    {
      "cell_type": "code",
      "source": [],
      "metadata": {
        "id": "sDqRwWoA_C5Y"
      },
      "execution_count": null,
      "outputs": []
    },
    {
      "cell_type": "markdown",
      "source": [
        "---\n",
        "<font color=green>Q19:</font>\n",
        "<br><font color='green'>\n",
        "Plot the training and validation recall\n",
        "</font>\n",
        "\n",
        "---"
      ],
      "metadata": {
        "id": "KLN4_OPEwmsw"
      }
    },
    {
      "cell_type": "code",
      "source": [],
      "metadata": {
        "id": "oZmdwb79_Dz_"
      },
      "execution_count": null,
      "outputs": []
    },
    {
      "cell_type": "markdown",
      "source": [
        "---\n",
        "<font color=green>Q20:</font>\n",
        "<br><font color='green'>\n",
        "Plot the confusion matrix using the function below\n",
        "</font>\n",
        "\n",
        "---"
      ],
      "metadata": {
        "id": "aWZZOZywzQVk"
      }
    },
    {
      "cell_type": "code",
      "source": [
        "# Import Modules\n",
        "from sklearn.metrics import confusion_matrix\n",
        "import seaborn as sns\n",
        "\n",
        "\n",
        "# Functin to plot the confusion matrix\n",
        "def plot_confusion_matrix(y_test, y_hat):\n",
        "  fig = plt.figure(figsize=(10, 8))\n",
        "  g = sns.heatmap(confusion_matrix(y_test, y_hat),\n",
        "              annot=True,\n",
        "              fmt=\"0.0f\")\n",
        "  g.set_xlabel(\"Predicted\")\n",
        "  g.set_ylabel(\"Actual\")\n",
        "  g.set_title(\"Confusion Matrix on the test set\")\n",
        "  plt.show()"
      ],
      "metadata": {
        "id": "q9L7npbnzQd9"
      },
      "execution_count": null,
      "outputs": []
    },
    {
      "cell_type": "code",
      "source": [],
      "metadata": {
        "id": "aJICaewK_GB8"
      },
      "execution_count": null,
      "outputs": []
    },
    {
      "cell_type": "markdown",
      "metadata": {
        "id": "93er6gDBMdyt"
      },
      "source": [
        "## 3.2 Training the embedding matrix"
      ]
    },
    {
      "cell_type": "markdown",
      "source": [
        "---\n",
        "<font color=green>Q20:</font>\n",
        "<br><font color='green'>\n",
        "Create the following model :\n",
        "</font>\n",
        "\n",
        "---"
      ],
      "metadata": {
        "id": "ZhYLoV87woFq"
      }
    },
    {
      "cell_type": "markdown",
      "source": [
        "<center><img width=“700\" src = \"https://drive.google.com/uc?export=view&id=1FXc2jWEuuodqtu68Qeac33_V6J-mE__n\"></center>"
      ],
      "metadata": {
        "id": "BznOq1_K0aPm"
      }
    },
    {
      "cell_type": "code",
      "source": [
        "from keras.layers import Bidirectional"
      ],
      "metadata": {
        "id": "PWDbQ4HR_Igk"
      },
      "execution_count": null,
      "outputs": []
    },
    {
      "cell_type": "markdown",
      "source": [
        "---\n",
        "<font color=green>Q21:</font>\n",
        "<br><font color='green'>\n",
        "Fit your new model to the training data. Plot the tranining and validation loss,accuracy, precision and recall. Then, evaluate your model on the test data\n",
        "</font>\n",
        "\n",
        "---"
      ],
      "metadata": {
        "id": "N4gzLre6wpEB"
      }
    },
    {
      "cell_type": "code",
      "source": [],
      "metadata": {
        "id": "uv4UUC37_Lla"
      },
      "execution_count": null,
      "outputs": []
    },
    {
      "cell_type": "markdown",
      "source": [
        "---\n",
        "<font color=green>Q22:</font>\n",
        "<br><font color='green'>\n",
        "Plot the confusion matrix\n",
        "</font>\n",
        "\n",
        "---"
      ],
      "metadata": {
        "id": "RbnihzVYz7Q-"
      }
    },
    {
      "cell_type": "code",
      "source": [],
      "metadata": {
        "id": "Di0e-6ip_Q-I"
      },
      "execution_count": null,
      "outputs": []
    },
    {
      "cell_type": "markdown",
      "metadata": {
        "id": "1xy8N9ZZUW44"
      },
      "source": [
        "# Wrap-up"
      ]
    },
    {
      "cell_type": "markdown",
      "source": [
        "<center><img width=“700\" src = \"https://drive.google.com/uc?export=view&id=1UZuzjojifkjy8BaLXejXYwGCjzL4DJua\"></center>"
      ],
      "metadata": {
        "id": "Q640L1as0cFL"
      }
    },
    {
      "cell_type": "markdown",
      "metadata": {
        "id": "QmLB8jSfZr99"
      },
      "source": [
        "## To go further..."
      ]
    },
    {
      "cell_type": "markdown",
      "source": [
        "As an exercise:\n",
        "\n",
        "* Change the hyperparameters and add some regularization to have the same performance on the training dataset and the test dataset.\n",
        "\n",
        "* Test different architectures on another dataset, stored in the folder \"data\": `news_headlines.csv`. This dataset contains the sentiments for financial news headlines from the perspective of a retail investor. Further details about the dataset can be found in: [Malo, P., Sinha, A., Takala, P., Korhonen, P. and Wallenius, J. (2014): “Good debt or bad debt: Detecting semantic orientations in economic texts.](https://arxiv.org/pdf/1307.5336.pdf)"
      ],
      "metadata": {
        "id": "yBX04kDZgE6W"
      }
    },
    {
      "cell_type": "markdown",
      "source": [
        "## Introducing the next lecture"
      ],
      "metadata": {
        "id": "Bl8L25-DhFsv"
      }
    },
    {
      "cell_type": "markdown",
      "metadata": {
        "id": "8DkZy6pNbgNB"
      },
      "source": [
        "LSTM layers can be used to tackle a wide range of problems:"
      ]
    },
    {
      "cell_type": "markdown",
      "source": [
        "<center><img width=“700\" src = \"https://drive.google.com/uc?export=view&id=1lB5wkfX66shxrymtQNfszXdKO8qjSD6h\"></center>"
      ],
      "metadata": {
        "id": "wlHc9ee-0wsd"
      }
    },
    {
      "cell_type": "markdown",
      "metadata": {
        "id": "xuso1F7qb-pY"
      },
      "source": [
        "For Many to many problems when the length of the input sequence is different from the length of the output sequence, we use the following architecture decribed in the following paper: [Sequence to Sequence Learning\n",
        "with Neural Networks](https://papers.nips.cc/paper/5346-sequence-to-sequence-learning-with-neural-networks.pdf):"
      ]
    },
    {
      "cell_type": "markdown",
      "source": [
        "<center><img width=“700\" src = \"https://drive.google.com/uc?export=view&id=1SASHthGKMVBvlU0CcXX5Rfg0WYny4fS2\"></center>"
      ],
      "metadata": {
        "id": "FOX1HmbB0wDT"
      }
    },
    {
      "cell_type": "markdown",
      "metadata": {
        "id": "vA5Ev9x9cen6"
      },
      "source": [
        "As seq2seq architecture don't handle very well long sentences, we use **Attention**, which aims at looking on a context in the input and weight it correctly to generate the output.\n",
        "\n",
        "A good reference for it : [Attention Is All You Need](https://arxiv.org/pdf/1706.03762v5.pdf)\n",
        "\n",
        "An example of application in Speech Recognition:"
      ]
    },
    {
      "cell_type": "markdown",
      "source": [
        "<center><img width=“700\" src = \"https://drive.google.com/uc?export=view&id=1QkTzmlvA2OVVwnM0x91bVDd7CeVH7PlL\"></center>:"
      ],
      "metadata": {
        "id": "HHQbeLgh0vOT"
      }
    }
  ]
}