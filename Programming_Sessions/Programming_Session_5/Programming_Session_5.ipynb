{
  "nbformat": 4,
  "nbformat_minor": 0,
  "metadata": {
    "colab": {
      "provenance": [],
      "include_colab_link": true
    },
    "kernelspec": {
      "name": "python3",
      "display_name": "Python 3"
    },
    "language_info": {
      "name": "python"
    }
  },
  "cells": [
    {
      "cell_type": "markdown",
      "metadata": {
        "id": "view-in-github",
        "colab_type": "text"
      },
      "source": [
        "<a href=\"https://colab.research.google.com/github/csyusharon/machine-learning/blob/main/Programming_Sessions/Programming_Session_5/Programming_Session_5.ipynb\" target=\"_parent\"><img src=\"https://colab.research.google.com/assets/colab-badge.svg\" alt=\"Open In Colab\"/></a>"
      ]
    },
    {
      "cell_type": "markdown",
      "metadata": {
        "id": "48GJETGg1Aow"
      },
      "source": [
        "# **<center>Machine Learning and Finance </center>**\n",
        "\n",
        "\n",
        "## <center> Programming Session 6 - Introduction to Sequence Models - </center>\n",
        "\n",
        "\n",
        "\n",
        "**Introduction:**\n",
        "\n",
        "This session aims to explore two fundamental aspects of sequence modeling: a Numpy implementation of a standard Recurrent Neural Network (RNN) and the classification of MNIST digits using Long Short-Term Memory (LSTM) networks.\n",
        "\n",
        "**Challenge:**\n",
        "\n",
        "The primary challenge involves grasping the intricacies of sequence modeling techniques, understanding their implementation from scratch, and then applying them to a real-world dataset like MNIST for accurate digit classification. For the Numpy-based RNN, the challenge lies in comprehensively implementing the core functionality of RNNs using only Numpy operations. Meanwhile, for the LSTM-based MNIST classification, the challenge is to understand the complexities of LSTM cells and effectively utilize them to classify handwritten digits.\n",
        "\n",
        "**Dataset Overview:**\n",
        "\n",
        "The MNIST dataset, a classic benchmark dataset, consists of 28x28 grayscale images of handwritten digits ranging from 0 to 9. Each image is accompanied by a corresponding label indicating the digit it represents. This dataset serves as an ideal starting point for experimenting with various sequence modeling techniques.\n",
        "\n",
        "**Objectives:**\n",
        "\n",
        "1. **Numpy Implementation of Standard RNN:**\n",
        "   - Understand the architecture and functioning of standard RNNs.\n",
        "   - Implement a basic RNN using Numpy, focusing on forward propagation.\n",
        "\n",
        "2. **MNIST Classification Using LSTM:**\n",
        "   - Explore the concept of Long Short-Term Memory (LSTM) networks.\n",
        "   - Train and evaluate the LSTM model on the MNIST dataset for accurate digit classification.\n"
      ]
    },
    {
      "cell_type": "markdown",
      "metadata": {
        "id": "qngIFzSedTYR"
      },
      "source": [
        "# 1. Numpy implementation of a standard RNN"
      ]
    },
    {
      "cell_type": "markdown",
      "source": [
        "<center><img width=“700\" src = \"https://drive.google.com/uc?export=view&id=1vXVUvFIFDxYo_sdil2QPJWSCwXwZj27f\"></center>"
      ],
      "metadata": {
        "id": "2WHK0TFvgvHw"
      }
    },
    {
      "cell_type": "code",
      "metadata": {
        "id": "kCcWOvm03Zxu"
      },
      "source": [
        "# Import basic libraries\n",
        "import matplotlib.pyplot as plt # for plotting\n",
        "import numpy as np # for manipulating arrays\n",
        "import tensorflow as tf # for creating Neural Networks, we will use it to load data\n",
        "plt.style.use('dark_background') # to adapt the colors to a dark background\n",
        "from IPython.display import Image # for showing graphs from the lectures"
      ],
      "execution_count": 1,
      "outputs": []
    },
    {
      "cell_type": "markdown",
      "metadata": {
        "id": "rMujAuUXxAUA"
      },
      "source": [
        "We consider the following hyperparameters:"
      ]
    },
    {
      "cell_type": "code",
      "metadata": {
        "id": "xRb1hXjofx7W"
      },
      "source": [
        "N = 1000\n",
        "T = 100\n",
        "D = 50\n",
        "d = 20"
      ],
      "execution_count": 2,
      "outputs": []
    },
    {
      "cell_type": "markdown",
      "source": [
        "---\n",
        "<font color=green>Q1:</font>\n",
        "<br><font color='green'>\n",
        "Generate some random data of shape $(N, T, D)$.\n",
        "</font>\n",
        "\n",
        "---"
      ],
      "metadata": {
        "id": "RHFbv_RgfmB2"
      }
    },
    {
      "cell_type": "code",
      "metadata": {
        "id": "rt9mlOmDf5TU"
      },
      "source": [
        "size = (N, T, D)\n",
        "data = np.random.randn(*size)"
      ],
      "execution_count": 4,
      "outputs": []
    },
    {
      "cell_type": "code",
      "metadata": {
        "id": "qaiEGS_2hKy-",
        "outputId": "863ca472-e297-472b-9d98-7c0653943a77",
        "colab": {
          "base_uri": "https://localhost:8080/"
        }
      },
      "source": [
        "data.shape"
      ],
      "execution_count": 5,
      "outputs": [
        {
          "output_type": "execute_result",
          "data": {
            "text/plain": [
              "(1000, 100, 50)"
            ]
          },
          "metadata": {},
          "execution_count": 5
        }
      ]
    },
    {
      "cell_type": "code",
      "metadata": {
        "id": "K3siLQOsxSqR",
        "outputId": "97e6c70c-f7c8-4448-bd33-c4f4b6c71aff",
        "colab": {
          "base_uri": "https://localhost:8080/"
        }
      },
      "source": [
        "data[0].shape"
      ],
      "execution_count": 6,
      "outputs": [
        {
          "output_type": "execute_result",
          "data": {
            "text/plain": [
              "(100, 50)"
            ]
          },
          "metadata": {},
          "execution_count": 6
        }
      ]
    },
    {
      "cell_type": "markdown",
      "source": [
        "---\n",
        "<font color=green>Q2:</font>\n",
        "<br><font color='green'>\n",
        "Generate some random weights $W_{hh}, W_{xh}, b_h$\n",
        "</font>\n",
        "\n",
        "---"
      ],
      "metadata": {
        "id": "1A5iUerBfwgv"
      }
    },
    {
      "cell_type": "code",
      "metadata": {
        "id": "Zy1x3CqWyBn9"
      },
      "source": [
        "W_hh = np.random.randn(d, d)\n",
        "W_xh = np.random.randn(D, d)\n",
        "b_h = np.random.randn(d, )"
      ],
      "execution_count": 9,
      "outputs": []
    },
    {
      "cell_type": "code",
      "source": [
        "plt.imshow(data[0].T)"
      ],
      "metadata": {
        "id": "QGhilMX6O-lL",
        "outputId": "8ae50fef-2e6d-43af-cdbb-8bfcefc95366",
        "colab": {
          "base_uri": "https://localhost:8080/",
          "height": 328
        }
      },
      "execution_count": 12,
      "outputs": [
        {
          "output_type": "execute_result",
          "data": {
            "text/plain": [
              "<matplotlib.image.AxesImage at 0x7e86aeb69910>"
            ]
          },
          "metadata": {},
          "execution_count": 12
        },
        {
          "output_type": "display_data",
          "data": {
            "text/plain": [
              "<Figure size 640x480 with 1 Axes>"
            ],
            "image/png": "[encoded data removed]"
          },
          "metadata": {}
        }
      ]
    },
    {
      "cell_type": "markdown",
      "source": [
        "---\n",
        "<font color=green>Q3:</font>\n",
        "<br><font color='green'>\n",
        "Produce the output tensor with a shape of $(N, T, d)$ by generating the sequence $y_1, \\dots, y_T$ corresponding to each sequence $x_1, \\dots, x_T$.\n",
        "</font>\n",
        "\n",
        "---"
      ],
      "metadata": {
        "id": "ZvIG6LaufxHY"
      }
    },
    {
      "cell_type": "code",
      "metadata": {
        "id": "pO0LjXHdgnYZ"
      },
      "source": [
        "# initialize the output tensor\n",
        "H = np.zeros((N, T, d))\n",
        "for i in range(N):\n",
        "  # Get the sequence i\n",
        "  X = data[i]\n",
        "  # initialize h_0 with 0\n",
        "  h_t_minus_one = np.zeros((d, ))\n",
        "  # initialize empty list of hidden states sequence_h = [h_1, ...., h_T]\n",
        "  sequence_h = []\n",
        "  #loop through all 'words' or elements x_1,...,x_T\n",
        "  for x_t in X:\n",
        "    h_t = np.tanh(W_hh.T.dot(h_t_minus_one) + W_xh.T.dot(x_t) + b_h)\n",
        "    sequence_h.append(h_t)\n",
        "    h_t_minus_one = h_t\n",
        "\n",
        "  H[i] = np.array(sequence_h)"
      ],
      "execution_count": 13,
      "outputs": []
    },
    {
      "cell_type": "markdown",
      "source": [
        "---\n",
        "<font color=green>Q4:</font>\n",
        "<br><font color='green'>\n",
        "Plot the shape of the output:\n",
        "</font>\n",
        "\n",
        "---"
      ],
      "metadata": {
        "id": "7vD9Fa0Rfx2T"
      }
    },
    {
      "cell_type": "code",
      "metadata": {
        "id": "YfoHYcIykko8",
        "colab": {
          "base_uri": "https://localhost:8080/"
        },
        "outputId": "c98cb2f4-737a-4a2f-f358-b11007d4397e"
      },
      "source": [
        "H.shape"
      ],
      "execution_count": 14,
      "outputs": [
        {
          "output_type": "execute_result",
          "data": {
            "text/plain": [
              "(1000, 100, 20)"
            ]
          },
          "metadata": {},
          "execution_count": 14
        }
      ]
    },
    {
      "cell_type": "markdown",
      "metadata": {
        "id": "COv33yRDvNuV"
      },
      "source": [
        "# 2. MNIST Classification using LSTMs"
      ]
    },
    {
      "cell_type": "markdown",
      "source": [
        "<center><img width=“700\" src = \"https://drive.google.com/uc?export=view&id=1KNpBc60u1QCopXygOff0tLkQNkyXuSmr\"></center>"
      ],
      "metadata": {
        "id": "IYCOGECGhVNt"
      }
    },
    {
      "cell_type": "markdown",
      "metadata": {
        "id": "u79VBT_aGlUG"
      },
      "source": [
        "We aim to employ the LSTM layer for classifying the MNIST dataset, which consists of images shaped as $(60000, 28, 28)$. Each sample represents an image with dimensions $(28, 28)$. Viewing each image as a sequence, we can interpret it as having a length of $T = 28,$ with each element having a dimension of $D = 28$."
      ]
    },
    {
      "cell_type": "markdown",
      "metadata": {
        "id": "y8mttvycUV6K"
      },
      "source": [
        "## 2.1 Loading the MNIST dataset"
      ]
    },
    {
      "cell_type": "markdown",
      "source": [
        "---\n",
        "<font color=green>Q5:</font>\n",
        "<br><font color='green'>\n",
        "Retrieve the MNIST dataset by utilizing the `tf.keras.datasets.mnist.load_data`function.\n",
        "</font>\n",
        "\n",
        "---"
      ],
      "metadata": {
        "id": "fqxR0xfgfytJ"
      }
    },
    {
      "cell_type": "code",
      "metadata": {
        "id": "grD3GopZc8Zb",
        "colab": {
          "base_uri": "https://localhost:8080/"
        },
        "outputId": "bba00dba-5d7b-4c2c-907b-f39e18c32dd7"
      },
      "source": [
        "(X_train, y_train), (X_test, y_test) = tf.keras.datasets.mnist.load_data()"
      ],
      "execution_count": 15,
      "outputs": [
        {
          "output_type": "stream",
          "name": "stdout",
          "text": [
            "Downloading data from https://storage.googleapis.com/tensorflow/tf-keras-datasets/mnist.npz\n",
            "\u001b[1m11490434/11490434\u001b[0m \u001b[32m━━━━━━━━━━━━━━━━━━━━\u001b[0m\u001b[37m\u001b[0m \u001b[1m1s\u001b[0m 0us/step\n"
          ]
        }
      ]
    },
    {
      "cell_type": "markdown",
      "source": [
        "---\n",
        "<font color=green>Q6:</font>\n",
        "<br><font color='green'>\n",
        "Print the shape of the data.\n",
        "</font>\n",
        "\n",
        "---"
      ],
      "metadata": {
        "id": "ARNK6uSFfzVP"
      }
    },
    {
      "cell_type": "code",
      "metadata": {
        "id": "EOXsnm0udz00",
        "colab": {
          "base_uri": "https://localhost:8080/"
        },
        "outputId": "2e8a3e4f-9410-4777-fa06-444a27ee76aa"
      },
      "source": [
        "X_train.shape"
      ],
      "execution_count": 17,
      "outputs": [
        {
          "output_type": "execute_result",
          "data": {
            "text/plain": [
              "(60000, 28, 28)"
            ]
          },
          "metadata": {},
          "execution_count": 17
        }
      ]
    },
    {
      "cell_type": "code",
      "source": [
        "plt.imshow(X_train[0])"
      ],
      "metadata": {
        "id": "X0VoTc0YVIfI",
        "outputId": "89838e7f-fc69-41e3-a341-7b872aebf078",
        "colab": {
          "base_uri": "https://localhost:8080/",
          "height": 447
        }
      },
      "execution_count": 18,
      "outputs": [
        {
          "output_type": "execute_result",
          "data": {
            "text/plain": [
              "<matplotlib.image.AxesImage at 0x7e86ae787650>"
            ]
          },
          "metadata": {},
          "execution_count": 18
        },
        {
          "output_type": "display_data",
          "data": {
            "text/plain": [
              "<Figure size 640x480 with 1 Axes>"
            ],
            "image/png": "[encoded data removed]"
          },
          "metadata": {}
        }
      ]
    },
    {
      "cell_type": "markdown",
      "source": [
        "---\n",
        "<font color=green>Q7:</font>\n",
        "<br><font color='green'>\n",
        "Normalize the feature train and test data by dividing each pixel element by 255.\n",
        "</font>\n",
        "\n",
        "---"
      ],
      "metadata": {
        "id": "s0I9WQWdf04M"
      }
    },
    {
      "cell_type": "code",
      "metadata": {
        "id": "Sg74fdAr1ApF"
      },
      "source": [
        "X_train = X_train / 255.\n",
        "#add dot to insure it is a float\n",
        "X_test = X_test / 255."
      ],
      "execution_count": 19,
      "outputs": []
    },
    {
      "cell_type": "markdown",
      "source": [
        "---\n",
        "<font color=green>Q8:</font>\n",
        "<br><font color='green'>\n",
        "The targets represent categories ranging from 0 to 9. To encode them into a tensor of shape $(N, 10)$, utilize the to_categorical function from `tensorflow.keras.utils` for one-hot encoding.\n",
        "</font>\n",
        "\n",
        "---"
      ],
      "metadata": {
        "id": "5lik-Dr0f1Vy"
      }
    },
    {
      "cell_type": "code",
      "metadata": {
        "id": "RfDKDAe41zwx",
        "outputId": "0357e54b-700f-47e3-9332-82ab65194e87",
        "colab": {
          "base_uri": "https://localhost:8080/"
        }
      },
      "source": [
        "len(set(y_train))"
      ],
      "execution_count": 20,
      "outputs": [
        {
          "output_type": "execute_result",
          "data": {
            "text/plain": [
              "10"
            ]
          },
          "metadata": {},
          "execution_count": 20
        }
      ]
    },
    {
      "cell_type": "code",
      "metadata": {
        "id": "P0MAZMAC2Ewu"
      },
      "source": [
        "from tensorflow.keras.utils import to_categorical\n",
        "\n",
        "y_train = to_categorical(y_train)\n",
        "y_test = to_categorical(y_test)"
      ],
      "execution_count": 21,
      "outputs": []
    },
    {
      "cell_type": "markdown",
      "source": [
        "---\n",
        "<font color=green>Q9:</font>\n",
        "<br><font color='green'>\n",
        "Build the specified model and train it using gradient descent optimization.</font>\n",
        "\n",
        "---"
      ],
      "metadata": {
        "id": "hkrZ4josf2Ap"
      }
    },
    {
      "cell_type": "markdown",
      "source": [
        "<center><img width=“500\" src = \"https://drive.google.com/uc?export=view&id=1zCyhgITfxptmBzUDQ7-TPKsKugVyjtat\"></center>"
      ],
      "metadata": {
        "id": "unZ3w7JLhZME"
      }
    },
    {
      "cell_type": "code",
      "metadata": {
        "id": "6g2aLmH-1iUO"
      },
      "source": [
        "# Set hyperparameters\n",
        "T = X_train.shape[1]\n",
        "D = X_train.shape[2]\n",
        "d = 32\n",
        "M = 64\n",
        "N_epochs = 10"
      ],
      "execution_count": 22,
      "outputs": []
    },
    {
      "cell_type": "code",
      "metadata": {
        "id": "_x_oHj60k7Ww"
      },
      "source": [
        "# Import Modules\n",
        "from tensorflow.keras.models import Sequential\n",
        "from tensorflow.keras.layers import Input, LSTM, Dense"
      ],
      "execution_count": 23,
      "outputs": []
    },
    {
      "cell_type": "code",
      "metadata": {
        "id": "WHxemeCSk7kb",
        "colab": {
          "base_uri": "https://localhost:8080/",
          "height": 253
        },
        "outputId": "a5fe690a-604b-47c3-99ae-9e9e29475d05"
      },
      "source": [
        "model = Sequential([\n",
        "    LSTM(d, return_sequences=False, input_shape=(T, D)),\n",
        "    Dense(10, activation='softmax')\n",
        "])\n",
        "\n",
        "model.summary()"
      ],
      "execution_count": 24,
      "outputs": [
        {
          "output_type": "stream",
          "name": "stderr",
          "text": [
            "/usr/local/lib/python3.11/dist-packages/keras/src/layers/rnn/rnn.py:200: UserWarning: Do not pass an `input_shape`/`input_dim` argument to a layer. When using Sequential models, prefer using an `Input(shape)` object as the first layer in the model instead.\n",
            "  super().__init__(**kwargs)\n"
          ]
        },
        {
          "output_type": "display_data",
          "data": {
            "text/plain": [
              "\u001b[1mModel: \"sequential\"\u001b[0m\n"
            ],
            "text/html": [
              "<pre style=\"white-space:pre;overflow-x:auto;line-height:normal;font-family:Menlo,'DejaVu Sans Mono',consolas,'Courier New',monospace\"><span style=\"font-weight: bold\">Model: \"sequential\"</span>\n",
              "</pre>\n"
            ]
          },
          "metadata": {}
        },
        {
          "output_type": "display_data",
          "data": {
            "text/plain": [
              "┏━━━━━━━━━━━━━━━━━━━━━━━━━━━━━━━━━┳━━━━━━━━━━━━━━━━━━━━━━━━┳━━━━━━━━━━━━━━━┓\n",
              "┃\u001b[1m \u001b[0m\u001b[1mLayer (type)                   \u001b[0m\u001b[1m \u001b[0m┃\u001b[1m \u001b[0m\u001b[1mOutput Shape          \u001b[0m\u001b[1m \u001b[0m┃\u001b[1m \u001b[0m\u001b[1m      Param #\u001b[0m\u001b[1m \u001b[0m┃\n",
              "┡━━━━━━━━━━━━━━━━━━━━━━━━━━━━━━━━━╇━━━━━━━━━━━━━━━━━━━━━━━━╇━━━━━━━━━━━━━━━┩\n",
              "│ lstm (\u001b[38;5;33mLSTM\u001b[0m)                     │ (\u001b[38;5;45mNone\u001b[0m, \u001b[38;5;34m32\u001b[0m)             │         \u001b[38;5;34m7,808\u001b[0m │\n",
              "├─────────────────────────────────┼────────────────────────┼───────────────┤\n",
              "│ dense (\u001b[38;5;33mDense\u001b[0m)                   │ (\u001b[38;5;45mNone\u001b[0m, \u001b[38;5;34m10\u001b[0m)             │           \u001b[38;5;34m330\u001b[0m │\n",
              "└─────────────────────────────────┴────────────────────────┴───────────────┘\n"
            ],
            "text/html": [
              "<pre style=\"white-space:pre;overflow-x:auto;line-height:normal;font-family:Menlo,'DejaVu Sans Mono',consolas,'Courier New',monospace\">┏━━━━━━━━━━━━━━━━━━━━━━━━━━━━━━━━━┳━━━━━━━━━━━━━━━━━━━━━━━━┳━━━━━━━━━━━━━━━┓\n",
              "┃<span style=\"font-weight: bold\"> Layer (type)                    </span>┃<span style=\"font-weight: bold\"> Output Shape           </span>┃<span style=\"font-weight: bold\">       Param # </span>┃\n",
              "┡━━━━━━━━━━━━━━━━━━━━━━━━━━━━━━━━━╇━━━━━━━━━━━━━━━━━━━━━━━━╇━━━━━━━━━━━━━━━┩\n",
              "│ lstm (<span style=\"color: #0087ff; text-decoration-color: #0087ff\">LSTM</span>)                     │ (<span style=\"color: #00d7ff; text-decoration-color: #00d7ff\">None</span>, <span style=\"color: #00af00; text-decoration-color: #00af00\">32</span>)             │         <span style=\"color: #00af00; text-decoration-color: #00af00\">7,808</span> │\n",
              "├─────────────────────────────────┼────────────────────────┼───────────────┤\n",
              "│ dense (<span style=\"color: #0087ff; text-decoration-color: #0087ff\">Dense</span>)                   │ (<span style=\"color: #00d7ff; text-decoration-color: #00d7ff\">None</span>, <span style=\"color: #00af00; text-decoration-color: #00af00\">10</span>)             │           <span style=\"color: #00af00; text-decoration-color: #00af00\">330</span> │\n",
              "└─────────────────────────────────┴────────────────────────┴───────────────┘\n",
              "</pre>\n"
            ]
          },
          "metadata": {}
        },
        {
          "output_type": "display_data",
          "data": {
            "text/plain": [
              "\u001b[1m Total params: \u001b[0m\u001b[38;5;34m8,138\u001b[0m (31.79 KB)\n"
            ],
            "text/html": [
              "<pre style=\"white-space:pre;overflow-x:auto;line-height:normal;font-family:Menlo,'DejaVu Sans Mono',consolas,'Courier New',monospace\"><span style=\"font-weight: bold\"> Total params: </span><span style=\"color: #00af00; text-decoration-color: #00af00\">8,138</span> (31.79 KB)\n",
              "</pre>\n"
            ]
          },
          "metadata": {}
        },
        {
          "output_type": "display_data",
          "data": {
            "text/plain": [
              "\u001b[1m Trainable params: \u001b[0m\u001b[38;5;34m8,138\u001b[0m (31.79 KB)\n"
            ],
            "text/html": [
              "<pre style=\"white-space:pre;overflow-x:auto;line-height:normal;font-family:Menlo,'DejaVu Sans Mono',consolas,'Courier New',monospace\"><span style=\"font-weight: bold\"> Trainable params: </span><span style=\"color: #00af00; text-decoration-color: #00af00\">8,138</span> (31.79 KB)\n",
              "</pre>\n"
            ]
          },
          "metadata": {}
        },
        {
          "output_type": "display_data",
          "data": {
            "text/plain": [
              "\u001b[1m Non-trainable params: \u001b[0m\u001b[38;5;34m0\u001b[0m (0.00 B)\n"
            ],
            "text/html": [
              "<pre style=\"white-space:pre;overflow-x:auto;line-height:normal;font-family:Menlo,'DejaVu Sans Mono',consolas,'Courier New',monospace\"><span style=\"font-weight: bold\"> Non-trainable params: </span><span style=\"color: #00af00; text-decoration-color: #00af00\">0</span> (0.00 B)\n",
              "</pre>\n"
            ]
          },
          "metadata": {}
        }
      ]
    },
    {
      "cell_type": "code",
      "source": [
        "model.compile(loss='categorical_crossentropy',\n",
        "              optimizer='sgd',\n",
        "              metrics=['accuracy'])"
      ],
      "metadata": {
        "id": "wdzPe-k5bpdO"
      },
      "execution_count": 25,
      "outputs": []
    },
    {
      "cell_type": "code",
      "source": [],
      "metadata": {
        "id": "jhhn6dN6byNB"
      },
      "execution_count": null,
      "outputs": []
    },
    {
      "cell_type": "markdown",
      "source": [
        "---\n",
        "<font color=green>Q10:</font>\n",
        "<br><font color='green'>\n",
        "Visualize the training and validation loss, as well as the training and validation accuracy, through plots.\n",
        "</font>\n",
        "\n",
        "---"
      ],
      "metadata": {
        "id": "nRJ1zuASf3Li"
      }
    },
    {
      "cell_type": "code",
      "metadata": {
        "id": "HVhFRaHWk7hP",
        "colab": {
          "base_uri": "https://localhost:8080/",
          "height": 458
        },
        "outputId": "d3ad24b4-191e-4ca2-94db-0ad73ac55942"
      },
      "source": [
        "\n"
      ],
      "execution_count": null,
      "outputs": [
        {
          "output_type": "display_data",
          "data": {
            "text/plain": [
              "<Figure size 720x504 with 1 Axes>"
            ],
            "image/png": "[encoded data removed]"
          },
          "metadata": {}
        }
      ]
    },
    {
      "cell_type": "code",
      "metadata": {
        "id": "VWsBpMTTJUzl",
        "colab": {
          "base_uri": "https://localhost:8080/",
          "height": 458
        },
        "outputId": "9b0f7fae-b8e5-4ade-df9d-921d02bc1516"
      },
      "source": [],
      "execution_count": null,
      "outputs": [
        {
          "output_type": "display_data",
          "data": {
            "text/plain": [
              "<Figure size 720x504 with 1 Axes>"
            ],
            "image/png": "[encoded data removed]"
          },
          "metadata": {}
        }
      ]
    },
    {
      "cell_type": "markdown",
      "metadata": {
        "id": "1xy8N9ZZUW44"
      },
      "source": [
        "# Wrap-up"
      ]
    },
    {
      "cell_type": "markdown",
      "metadata": {
        "id": "ApA7ycFtywuv"
      },
      "source": [
        "\n",
        "In this coding session, we've gained insights into the following:\n",
        "\n",
        "* Implementing the RNN layer from scratch using Numpy, facilitating a deeper understanding of data transformations.\n",
        "* Conducting a classification task on data with dimensions (N, T, D) by leveraging LSTM networks.\n",
        "\n"
      ]
    }
  ]
}